{
 "cells": [
  {
   "cell_type": "code",
   "execution_count": 47,
   "id": "4df7a924",
   "metadata": {},
   "outputs": [],
   "source": [
    "# from huggingface_hub import notebook_login\n",
    "# notebook_login()\n",
    "\n",
    "from datasets import load_dataset\n",
    "import pandas as pd\n",
    "\n",
    "squad = load_dataset(\"squad\", split=\"train[:5000]\")\n",
    "squad = squad.train_test_split(test_size=0.2)\n",
    "\n",
    "\n",
    "def get_start_end(train):\n",
    "    ans_start = []\n",
    "    ans_end = []\n",
    "\n",
    "    for ans in train['answers']:\n",
    "        start = ans['answer_start'][0]\n",
    "        end = start + len(ans['text'][0].strip())\n",
    "\n",
    "        ans_start.append(start)\n",
    "        ans_end.append(end)\n",
    "        \n",
    "    return {\n",
    "        \"start\": ans_start,\n",
    "        \"end\": ans_end   \n",
    "    }"
   ]
  },
  {
   "cell_type": "code",
   "execution_count": 43,
   "id": "5b4c5d29",
   "metadata": {},
   "outputs": [],
   "source": [
    "# Convert the dataset to a dictionary\n",
    "data_dict = squad[\"train\"].to_dict()\n",
    "# Create a DataFrame from the dictionary\n",
    "df = pd.DataFrame.from_dict(data_dict)\n",
    "df.head()\n",
    "train = df.iloc[:1000, :].copy()\n",
    "val = df.iloc[1000:1500, :].copy()"
   ]
  },
  {
   "cell_type": "code",
   "execution_count": 48,
   "id": "1b830318",
   "metadata": {},
   "outputs": [],
   "source": [
    "train_answers = get_start_end(train)\n",
    "val_answers = get_start_end(val)"
   ]
  },
  {
   "cell_type": "code",
   "execution_count": 3,
   "id": "fda1cdb6",
   "metadata": {},
   "outputs": [
    {
     "name": "stderr",
     "output_type": "stream",
     "text": [
      "Some weights of RobertaForQuestionAnswering were not initialized from the model checkpoint at models/RoBERT.pth and are newly initialized: ['qa_outputs.weight', 'qa_outputs.bias']\n",
      "You should probably TRAIN this model on a down-stream task to be able to use it for predictions and inference.\n"
     ]
    }
   ],
   "source": [
    "from transformers import AutoTokenizer\n",
    "from transformers import AutoModelForQuestionAnswering, TrainingArguments, Trainer\n",
    "\n",
    "model = AutoModelForQuestionAnswering.from_pretrained(\"models/RoBERT.pth\")\n",
    "tokenizer = AutoTokenizer.from_pretrained(\"models/Tokenizer_RoBERT.pth/\")"
   ]
  },
  {
   "cell_type": "code",
   "execution_count": 93,
   "id": "ecfa0d74",
   "metadata": {
    "scrolled": true
   },
   "outputs": [],
   "source": [
    "questions = [q.strip() for q in train[\"question\"]]\n",
    "context = [q.strip() for q in train[\"context\"]]\n",
    "train_encodings = tokenizer(context, questions, max_length=512, truncation=True, padding=True)\n",
    "\n",
    "questions = [q.strip() for q in val[\"question\"]]\n",
    "context = [q.strip() for q in val[\"context\"]]\n",
    "val_encodings = tokenizer(context, questions, max_length=512, truncation=True, padding=True)"
   ]
  },
  {
   "cell_type": "code",
   "execution_count": 94,
   "id": "4735b924",
   "metadata": {},
   "outputs": [
    {
     "data": {
      "text/plain": [
       "296"
      ]
     },
     "execution_count": 94,
     "metadata": {},
     "output_type": "execute_result"
    }
   ],
   "source": [
    "train_encodings.char_to_token(0, train['answers'][0]['answer_start'][0])"
   ]
  },
  {
   "cell_type": "code",
   "execution_count": 95,
   "id": "70ff4460",
   "metadata": {},
   "outputs": [
    {
     "data": {
      "text/plain": [
       "750"
      ]
     },
     "execution_count": 95,
     "metadata": {},
     "output_type": "execute_result"
    }
   ],
   "source": [
    "train['answers'][0]['answer_start'][0]"
   ]
  },
  {
   "cell_type": "code",
   "execution_count": null,
   "id": "34169d78",
   "metadata": {},
   "outputs": [],
   "source": []
  },
  {
   "cell_type": "code",
   "execution_count": 96,
   "id": "930ea1c5",
   "metadata": {},
   "outputs": [
    {
     "data": {
      "text/plain": [
       "301"
      ]
     },
     "execution_count": 96,
     "metadata": {},
     "output_type": "execute_result"
    }
   ],
   "source": [
    "train_encodings.char_to_token(0, train_answers['end'][0])"
   ]
  },
  {
   "cell_type": "code",
   "execution_count": 115,
   "id": "cbb0d5f4",
   "metadata": {},
   "outputs": [],
   "source": [
    "def add_token_positions(encodings, answers):\n",
    "    start_positions = []\n",
    "    end_positions = []\n",
    "    for i in range(len(answers['start'])):\n",
    "        start = encodings.char_to_token(i, answers['start'][i])\n",
    "        end = encodings.char_to_token(i, answers['end'][i])\n",
    "        \n",
    "        \n",
    "        if start is None:\n",
    "            # start = tokenizer.model_max_length\n",
    "            start = 512\n",
    "        \n",
    "        go_back = 1\n",
    "        while end is None:\n",
    "            end = encodings.char_to_token(i, answers['end'][i] - go_back)\n",
    "            go_back += 1\n",
    "            \n",
    "#         if end is None:\n",
    "#             print('yes')\n",
    "#             end = tokenizer.model_max_length\n",
    "            \n",
    "        start_positions.append(start)\n",
    "        end_positions.append(end)\n",
    "    \n",
    "    encodings.update({\n",
    "        'start_positions': start_positions,\n",
    "        'end_positions': end_positions\n",
    "    })\n",
    "    "
   ]
  },
  {
   "cell_type": "code",
   "execution_count": 116,
   "id": "7a32863d",
   "metadata": {},
   "outputs": [],
   "source": [
    "add_token_positions(train_encodings, train_answers)\n",
    "add_token_positions(val_encodings, val_answers)"
   ]
  },
  {
   "cell_type": "code",
   "execution_count": 117,
   "id": "36eb4b14",
   "metadata": {},
   "outputs": [
    {
     "data": {
      "text/plain": [
       "dict_keys(['input_ids', 'attention_mask', 'start_positions', 'end_positions'])"
      ]
     },
     "execution_count": 117,
     "metadata": {},
     "output_type": "execute_result"
    }
   ],
   "source": [
    "train_encodings.keys()"
   ]
  },
  {
   "cell_type": "code",
   "execution_count": 118,
   "id": "639f2205",
   "metadata": {},
   "outputs": [
    {
     "data": {
      "text/plain": [
       "512"
      ]
     },
     "execution_count": 118,
     "metadata": {},
     "output_type": "execute_result"
    }
   ],
   "source": [
    "len(train_encodings['input_ids'][0])"
   ]
  },
  {
   "cell_type": "code",
   "execution_count": 119,
   "id": "eb183b4a",
   "metadata": {},
   "outputs": [],
   "source": [
    "import torch\n",
    "\n",
    "class SquadDataset(torch.utils.data.Dataset):\n",
    "    def __init__(self, encodings):\n",
    "        self.encodings = encodings\n",
    "    def __len__(self, ):\n",
    "        return len(self.encodings.input_ids)\n",
    "    def __getitem__(self, x):\n",
    "        return {key: torch.tensor(val[x]) for key, val in self.encodings.items()}"
   ]
  },
  {
   "cell_type": "code",
   "execution_count": 120,
   "id": "b3c28b90",
   "metadata": {},
   "outputs": [
    {
     "data": {
      "text/plain": [
       "dict_keys(['input_ids', 'attention_mask', 'start_positions', 'end_positions'])"
      ]
     },
     "execution_count": 120,
     "metadata": {},
     "output_type": "execute_result"
    }
   ],
   "source": [
    "next(iter(SquadDataset(train_encodings))).keys()"
   ]
  },
  {
   "cell_type": "code",
   "execution_count": 121,
   "id": "8827f487",
   "metadata": {},
   "outputs": [],
   "source": [
    "train_dataset = SquadDataset(train_encodings)\n",
    "val_dataset = SquadDataset(val_encodings)"
   ]
  },
  {
   "cell_type": "code",
   "execution_count": 122,
   "id": "16230f5f",
   "metadata": {},
   "outputs": [],
   "source": [
    "from torch.utils.data import DataLoader\n",
    "from transformers import AdamW\n",
    "from tqdm import tqdm"
   ]
  },
  {
   "cell_type": "code",
   "execution_count": 123,
   "id": "0056bb0c",
   "metadata": {},
   "outputs": [
    {
     "name": "stderr",
     "output_type": "stream",
     "text": [
      "C:\\Users\\yerda\\AppData\\Roaming\\Python\\Python311\\site-packages\\transformers\\optimization.py:411: FutureWarning: This implementation of AdamW is deprecated and will be removed in a future version. Use the PyTorch implementation torch.optim.AdamW instead, or set `no_deprecation_warning=True` to disable this warning\n",
      "  warnings.warn(\n"
     ]
    }
   ],
   "source": [
    "device = 'cuda' if torch.cuda.is_available() else 'cpu'\n",
    "model.to(device)\n",
    "model.train()\n",
    "optim = AdamW(model.parameters(), lr=5e-5)"
   ]
  },
  {
   "cell_type": "code",
   "execution_count": 124,
   "id": "f864fa41",
   "metadata": {},
   "outputs": [],
   "source": [
    "train_loader = DataLoader(train_dataset, batch_size=2, shuffle=True)\n",
    "val_loader = DataLoader(val_dataset, batch_size=2, shuffle=True)"
   ]
  },
  {
   "cell_type": "code",
   "execution_count": 125,
   "id": "8deb23f5",
   "metadata": {},
   "outputs": [
    {
     "name": "stderr",
     "output_type": "stream",
     "text": [
      "Epoch 0: 100%|█████████████████████████████████████████████████████████████| 500/500 [00:46<00:00, 10.69it/s, loss=4.5]\n",
      "Epoch 1: 100%|████████████████████████████████████████████████████████████| 500/500 [00:46<00:00, 10.64it/s, loss=3.79]\n",
      "Epoch 2: 100%|████████████████████████████████████████████████████████████| 500/500 [00:47<00:00, 10.62it/s, loss=2.87]\n"
     ]
    }
   ],
   "source": [
    "for epoch in range(3):\n",
    "    loop = tqdm(train_loader)\n",
    "    for batch in loop:\n",
    "        optim.zero_grad()\n",
    "        \n",
    "        input_ids = batch['input_ids'].to(device)\n",
    "        attention_mask = batch['attention_mask'].to(device)\n",
    "        start_positions = batch['start_positions'].to(device)\n",
    "        end_positions = batch['end_positions'].to(device)\n",
    "        \n",
    "        outputs = model(input_ids, attention_mask=attention_mask, \n",
    "                        start_positions=start_positions,\n",
    "                        end_positions=end_positions)\n",
    "        \n",
    "        loss = outputs[0]\n",
    "        loss.backward()\n",
    "        optim.step()\n",
    "        \n",
    "        loop.set_description(f\"Epoch {epoch}\")\n",
    "        loop.set_postfix(loss=loss.item())"
   ]
  },
  {
   "cell_type": "code",
   "execution_count": null,
   "id": "9f0b3ca9",
   "metadata": {},
   "outputs": [],
   "source": []
  },
  {
   "cell_type": "code",
   "execution_count": null,
   "id": "0eeff7ed",
   "metadata": {},
   "outputs": [],
   "source": []
  },
  {
   "cell_type": "code",
   "execution_count": null,
   "id": "496ea56c",
   "metadata": {},
   "outputs": [],
   "source": []
  },
  {
   "cell_type": "code",
   "execution_count": null,
   "id": "fd2efec3",
   "metadata": {},
   "outputs": [],
   "source": []
  },
  {
   "cell_type": "code",
   "execution_count": null,
   "id": "b0cf34c4",
   "metadata": {},
   "outputs": [],
   "source": []
  }
 ],
 "metadata": {
  "kernelspec": {
   "display_name": "Python 3 (ipykernel)",
   "language": "python",
   "name": "python3"
  },
  "language_info": {
   "codemirror_mode": {
    "name": "ipython",
    "version": 3
   },
   "file_extension": ".py",
   "mimetype": "text/x-python",
   "name": "python",
   "nbconvert_exporter": "python",
   "pygments_lexer": "ipython3",
   "version": "3.11.4"
  }
 },
 "nbformat": 4,
 "nbformat_minor": 5
}
