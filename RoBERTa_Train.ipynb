{
 "cells": [
  {
   "cell_type": "code",
   "execution_count": 1,
   "id": "ca439f21",
   "metadata": {},
   "outputs": [],
   "source": [
    "import torch, os\n",
    "import pandas as pd\n",
    "\n",
    "from transformers import AutoTokenizer\n",
    "from transformers import AutoModelForQuestionAnswering, TrainingArguments, Trainer\n",
    "from sklearn.model_selection import train_test_split\n",
    "from torch.utils.data import DataLoader\n",
    "from tqdm import tqdm\n",
    "\n",
    "device = 'cuda' if torch.cuda.is_available() else 'cpu'"
   ]
  },
  {
   "cell_type": "code",
   "execution_count": 2,
   "id": "77bf3ce6",
   "metadata": {},
   "outputs": [
    {
     "name": "stderr",
     "output_type": "stream",
     "text": [
      "Some weights of RobertaForQuestionAnswering were not initialized from the model checkpoint at models/RoBERT.pth and are newly initialized: ['qa_outputs.weight', 'qa_outputs.bias']\n",
      "You should probably TRAIN this model on a down-stream task to be able to use it for predictions and inference.\n"
     ]
    }
   ],
   "source": [
    "model = AutoModelForQuestionAnswering.from_pretrained(\"models/RoBERT.pth\")\n",
    "tokenizer = AutoTokenizer.from_pretrained(\"models/Tokenizer_RoBERT.pth/\")"
   ]
  },
  {
   "cell_type": "code",
   "execution_count": 3,
   "id": "e8f64964",
   "metadata": {},
   "outputs": [],
   "source": [
    "df = pd.read_csv(\"yerdaulet_annot.csv\")\n",
    "\n",
    "train, val = train_test_split(df, test_size=0.2)\n",
    "\n",
    "train = train.reset_index(drop=True)\n",
    "val = val.reset_index(drop=True)"
   ]
  },
  {
   "cell_type": "code",
   "execution_count": 4,
   "id": "a191b35b",
   "metadata": {},
   "outputs": [],
   "source": [
    "train_encodings = tokenizer(list(train.context), list(train.question), max_length=512, truncation=True, padding='max_length', return_tensors='pt')\n",
    "\n",
    "val_encodings = tokenizer(list(val.context), list(val.question), max_length=512, truncation=True, padding='max_length', return_tensors='pt')"
   ]
  },
  {
   "cell_type": "code",
   "execution_count": 5,
   "id": "9e0a4421",
   "metadata": {},
   "outputs": [],
   "source": [
    "def add_token_positions(encodings, df):\n",
    "    start_positions = []\n",
    "    end_positions = []\n",
    "\n",
    "\n",
    "    for i in range(len(df['start_position'])):\n",
    "        target_answer = df.at[i, \"answer\"]\n",
    "        start = encodings.char_to_token(i, df['start_position'][i] + 0)\n",
    "        end = encodings.char_to_token(i, df['end_position'][i] + 0)\n",
    "\n",
    "        if end is None:\n",
    "            end = encodings.char_to_token(i, df['end_position'][i] + 1)\n",
    "        \n",
    "        answer = tokenizer.decode(encodings['input_ids'][i][start:end])\n",
    "        \n",
    "        if target_answer.strip() == answer.strip():\n",
    "            pass\n",
    "        else:\n",
    "            counter = 2\n",
    "            while end is None:\n",
    "                end = encodings.char_to_token(i, df['end_position'][i] + counter)\n",
    "                if counter == 50:\n",
    "                    break\n",
    "                    \n",
    "                counter += 1\n",
    "\n",
    "            counter = 1\n",
    "            while end is None:\n",
    "                end = encodings.char_to_token(i, df['end_position'][i] - counter)\n",
    "                counter += 1\n",
    "\n",
    "                \n",
    "        start_positions.append(start)\n",
    "        end_positions.append(end)\n",
    "    \n",
    "    encodings.update({\n",
    "        'start_positions': start_positions,\n",
    "        'end_positions': end_positions\n",
    "    })"
   ]
  },
  {
   "cell_type": "code",
   "execution_count": 6,
   "id": "6de0b46b",
   "metadata": {},
   "outputs": [],
   "source": [
    "add_token_positions(train_encodings, train)\n",
    "add_token_positions(val_encodings, val)"
   ]
  },
  {
   "cell_type": "code",
   "execution_count": 7,
   "id": "67e0dae3",
   "metadata": {},
   "outputs": [],
   "source": [
    "class SquadDataset(torch.utils.data.Dataset):\n",
    "    def __init__(self, encodings):\n",
    "        self.encodings = encodings\n",
    "        \n",
    "    def __len__(self, ):\n",
    "        return len(self.encodings.input_ids)\n",
    "    \n",
    "    def __getitem__(self, x):\n",
    "        return {key: torch.tensor(val[x]) for key, val in self.encodings.items()}"
   ]
  },
  {
   "cell_type": "code",
   "execution_count": 8,
   "id": "c2689aae",
   "metadata": {},
   "outputs": [
    {
     "name": "stderr",
     "output_type": "stream",
     "text": [
      "C:\\Users\\yerda\\AppData\\Local\\Temp\\ipykernel_22776\\2881824031.py:9: UserWarning: To copy construct from a tensor, it is recommended to use sourceTensor.clone().detach() or sourceTensor.clone().detach().requires_grad_(True), rather than torch.tensor(sourceTensor).\n",
      "  return {key: torch.tensor(val[x]) for key, val in self.encodings.items()}\n"
     ]
    }
   ],
   "source": [
    "vals = next(iter(SquadDataset(train_encodings)))"
   ]
  },
  {
   "cell_type": "code",
   "execution_count": 9,
   "id": "ab3a00a0",
   "metadata": {},
   "outputs": [],
   "source": [
    "vals['input_ids'];"
   ]
  },
  {
   "cell_type": "code",
   "execution_count": null,
   "id": "42a99058",
   "metadata": {},
   "outputs": [],
   "source": []
  },
  {
   "cell_type": "code",
   "execution_count": 10,
   "id": "e0a164a8",
   "metadata": {},
   "outputs": [],
   "source": [
    "train_dataset = SquadDataset(train_encodings)\n",
    "val_dataset = SquadDataset(val_encodings)\n",
    "\n",
    "train_loader = DataLoader(train_dataset, batch_size=10, shuffle=True)\n",
    "val_loader = DataLoader(val_dataset, batch_size=10, shuffle=True)"
   ]
  },
  {
   "cell_type": "code",
   "execution_count": 11,
   "id": "92cd5ca2",
   "metadata": {},
   "outputs": [],
   "source": [
    "def save_model(model_name, epoch, prev_loss, current_loss, model, tokenizer, optimizer):\n",
    "    if prev_loss > current_loss:\n",
    "        torch.save({\n",
    "            \"epoch\": epoch,\n",
    "            \"model\": \"best_RoBERTa_model.pth\",\n",
    "            \"tokenizer\": \"best_RoBERT_tokenizer.pth\",\n",
    "            \"optimizer\": optimizer.state_dict(),\n",
    "            \"loss\": current_loss,\n",
    "        }, f\"models/best_{model_name}.pt\") # create models folder before! \n",
    "        print(\"The best model was saved!\")\n",
    "        prev_loss = current_loss\n",
    "        model.save_pretrained(\"models/best_RoBERTa_model.pth\")\n",
    "        tokenizer.save_pretrained(\"models/best_RoBERT_tokenizer.pth\")\n",
    "    \n",
    "    torch.save({\n",
    "            \"epoch\": epoch,\n",
    "            \"model\": \"last_RoBERTa_model.pth\",\n",
    "            \"tokenizer\": \"last_RoBERT_tokenizer.pth\",\n",
    "            \"optimizer\": optimizer.state_dict(),\n",
    "            \"loss\": current_loss,\n",
    "        }, f\"models/last_{model_name}.pt\")\n",
    "    model.save_pretrained(\"models/last_RoBERTa_model.pth\")\n",
    "    tokenizer.save_pretrained(\"models/last_RoBERT_tokenizer.pth\")\n",
    "    return prev_loss\n",
    "\n",
    "\n",
    "os.makedirs(\"models\", exist_ok=True)"
   ]
  },
  {
   "cell_type": "code",
   "execution_count": 12,
   "id": "0b8c8d5d",
   "metadata": {},
   "outputs": [],
   "source": [
    "model.train()\n",
    "model.to(device)\n",
    "optim = torch.optim.AdamW(model.parameters(), lr=5e-5)"
   ]
  },
  {
   "cell_type": "code",
   "execution_count": 13,
   "id": "ac595ea5",
   "metadata": {},
   "outputs": [
    {
     "name": "stderr",
     "output_type": "stream",
     "text": [
      "  0%|                                                                                           | 0/66 [00:00<?, ?it/s]C:\\Users\\yerda\\AppData\\Local\\Temp\\ipykernel_22776\\2881824031.py:9: UserWarning: To copy construct from a tensor, it is recommended to use sourceTensor.clone().detach() or sourceTensor.clone().detach().requires_grad_(True), rather than torch.tensor(sourceTensor).\n",
      "  return {key: torch.tensor(val[x]) for key, val in self.encodings.items()}\n",
      "Epoch 0:   2%|▉                                                              | 1/66 [00:02<02:41,  2.48s/it, loss=6.34]C:\\Users\\yerda\\AppData\\Local\\Temp\\ipykernel_22776\\2881824031.py:9: UserWarning: To copy construct from a tensor, it is recommended to use sourceTensor.clone().detach() or sourceTensor.clone().detach().requires_grad_(True), rather than torch.tensor(sourceTensor).\n",
      "  return {key: torch.tensor(val[x]) for key, val in self.encodings.items()}\n",
      "Epoch 0: 100%|██████████████████████████████████████████████████████████████| 66/66 [00:24<00:00,  2.67it/s, loss=2.51]\n",
      "Epoch 0: 100%|██████████████████████████████████████████████████████████████| 17/17 [00:01<00:00,  9.35it/s, loss=3.63]\n"
     ]
    },
    {
     "name": "stdout",
     "output_type": "stream",
     "text": [
      "The best model was saved!\n",
      "Epoch: 0 | Training loss 3.527042370854002 | Validation loss 3.2851467413060806\n"
     ]
    },
    {
     "name": "stderr",
     "output_type": "stream",
     "text": [
      "Epoch 1: 100%|██████████████████████████████████████████████████████████████| 66/66 [00:21<00:00,  3.08it/s, loss=2.12]\n",
      "Epoch 1: 100%|██████████████████████████████████████████████████████████████| 17/17 [00:01<00:00,  9.32it/s, loss=2.73]\n"
     ]
    },
    {
     "name": "stdout",
     "output_type": "stream",
     "text": [
      "The best model was saved!\n",
      "Epoch: 1 | Training loss 2.54295746124152 | Validation loss 3.207504384657916\n"
     ]
    },
    {
     "name": "stderr",
     "output_type": "stream",
     "text": [
      "Epoch 2: 100%|█████████████████████████████████████████████████████████████| 66/66 [00:21<00:00,  3.06it/s, loss=0.821]\n",
      "Epoch 2: 100%|██████████████████████████████████████████████████████████████| 17/17 [00:01<00:00,  9.28it/s, loss=3.09]\n"
     ]
    },
    {
     "name": "stdout",
     "output_type": "stream",
     "text": [
      "Epoch: 2 | Training loss 1.8077199630665057 | Validation loss 3.493916385314044\n"
     ]
    },
    {
     "name": "stderr",
     "output_type": "stream",
     "text": [
      "Epoch 3: 100%|█████████████████████████████████████████████████████████████| 66/66 [00:21<00:00,  3.04it/s, loss=0.918]\n",
      "Epoch 3: 100%|██████████████████████████████████████████████████████████████| 17/17 [00:01<00:00,  9.23it/s, loss=3.54]\n"
     ]
    },
    {
     "name": "stdout",
     "output_type": "stream",
     "text": [
      "The best model was saved!\n",
      "Epoch: 3 | Training loss 1.086864920276584 | Validation loss 3.204213675330667\n"
     ]
    },
    {
     "name": "stderr",
     "output_type": "stream",
     "text": [
      "Epoch 4: 100%|████████████████████████████████████████████████████████████| 66/66 [00:21<00:00,  3.04it/s, loss=0.0276]\n",
      "Epoch 4: 100%|██████████████████████████████████████████████████████████████| 17/17 [00:01<00:00,  9.26it/s, loss=3.62]\n"
     ]
    },
    {
     "name": "stdout",
     "output_type": "stream",
     "text": [
      "Epoch: 4 | Training loss 0.44588083988337807 | Validation loss 3.638382911682129\n"
     ]
    },
    {
     "name": "stderr",
     "output_type": "stream",
     "text": [
      "Epoch 5: 100%|█████████████████████████████████████████████████████████████| 66/66 [00:21<00:00,  3.06it/s, loss=0.955]\n",
      "Epoch 5: 100%|██████████████████████████████████████████████████████████████| 17/17 [00:01<00:00,  9.22it/s, loss=3.64]\n"
     ]
    },
    {
     "name": "stdout",
     "output_type": "stream",
     "text": [
      "Epoch: 5 | Training loss 0.21981208223962423 | Validation loss 4.127550531836117\n"
     ]
    },
    {
     "name": "stderr",
     "output_type": "stream",
     "text": [
      "Epoch 6: 100%|████████████████████████████████████████████████████████████| 66/66 [00:21<00:00,  3.06it/s, loss=0.0112]\n",
      "Epoch 6: 100%|██████████████████████████████████████████████████████████████| 17/17 [00:01<00:00,  9.21it/s, loss=2.97]\n"
     ]
    },
    {
     "name": "stdout",
     "output_type": "stream",
     "text": [
      "Epoch: 6 | Training loss 0.17474487234810085 | Validation loss 3.804668931400075\n"
     ]
    },
    {
     "name": "stderr",
     "output_type": "stream",
     "text": [
      "Epoch 7: 100%|███████████████████████████████████████████████████████████| 66/66 [00:21<00:00,  3.05it/s, loss=0.00491]\n",
      "Epoch 7: 100%|██████████████████████████████████████████████████████████████| 17/17 [00:01<00:00,  9.22it/s, loss=6.14]\n"
     ]
    },
    {
     "name": "stdout",
     "output_type": "stream",
     "text": [
      "Epoch: 7 | Training loss 0.08907919941879244 | Validation loss 4.195129170137293\n"
     ]
    },
    {
     "name": "stderr",
     "output_type": "stream",
     "text": [
      "Epoch 8: 100%|█████████████████████████████████████████████████████████████| 66/66 [00:21<00:00,  3.06it/s, loss=0.124]\n",
      "Epoch 8: 100%|██████████████████████████████████████████████████████████████| 17/17 [00:01<00:00,  9.24it/s, loss=5.77]\n"
     ]
    },
    {
     "name": "stdout",
     "output_type": "stream",
     "text": [
      "Epoch: 8 | Training loss 0.055314562590369445 | Validation loss 4.2458845587337715\n"
     ]
    },
    {
     "name": "stderr",
     "output_type": "stream",
     "text": [
      "Epoch 9: 100%|███████████████████████████████████████████████████████████| 66/66 [00:21<00:00,  3.06it/s, loss=0.00451]\n",
      "Epoch 9: 100%|███████████████████████████████████████████████████████████████| 17/17 [00:01<00:00,  9.22it/s, loss=4.6]\n"
     ]
    },
    {
     "name": "stdout",
     "output_type": "stream",
     "text": [
      "Epoch: 9 | Training loss 0.03706731303827837 | Validation loss 4.343194246292114\n"
     ]
    },
    {
     "name": "stderr",
     "output_type": "stream",
     "text": [
      "Epoch 10: 100%|██████████████████████████████████████████████████████████| 66/66 [00:21<00:00,  3.06it/s, loss=0.00369]\n",
      "Epoch 10: 100%|█████████████████████████████████████████████████████████████| 17/17 [00:01<00:00,  9.24it/s, loss=2.27]\n"
     ]
    },
    {
     "name": "stdout",
     "output_type": "stream",
     "text": [
      "Epoch: 10 | Training loss 0.030242237549938374 | Validation loss 3.8912817870869354\n"
     ]
    },
    {
     "name": "stderr",
     "output_type": "stream",
     "text": [
      "Epoch 11: 100%|██████████████████████████████████████████████████████████| 66/66 [00:21<00:00,  3.06it/s, loss=0.00189]\n",
      "Epoch 11: 100%|█████████████████████████████████████████████████████████████| 17/17 [00:01<00:00,  9.23it/s, loss=3.78]\n"
     ]
    },
    {
     "name": "stdout",
     "output_type": "stream",
     "text": [
      "Epoch: 11 | Training loss 0.016729415220624738 | Validation loss 4.164072709925034\n"
     ]
    },
    {
     "name": "stderr",
     "output_type": "stream",
     "text": [
      "Epoch 12: 100%|█████████████████████████████████████████████████████████| 66/66 [00:21<00:00,  3.06it/s, loss=0.000414]\n",
      "Epoch 12: 100%|██████████████████████████████████████████████████████████████| 17/17 [00:01<00:00,  9.23it/s, loss=4.6]\n"
     ]
    },
    {
     "name": "stdout",
     "output_type": "stream",
     "text": [
      "Epoch: 12 | Training loss 0.008738241304826894 | Validation loss 4.267514789805693\n"
     ]
    },
    {
     "name": "stderr",
     "output_type": "stream",
     "text": [
      "Epoch 13: 100%|██████████████████████████████████████████████████████████| 66/66 [00:21<00:00,  3.06it/s, loss=0.00038]\n",
      "Epoch 13: 100%|██████████████████████████████████████████████████████████████| 17/17 [00:01<00:00,  9.24it/s, loss=3.6]\n"
     ]
    },
    {
     "name": "stdout",
     "output_type": "stream",
     "text": [
      "Epoch: 13 | Training loss 0.006900972876764806 | Validation loss 4.293209959478939\n"
     ]
    },
    {
     "name": "stderr",
     "output_type": "stream",
     "text": [
      "Epoch 14: 100%|█████████████████████████████████████████████████████████| 66/66 [00:21<00:00,  3.06it/s, loss=0.000653]\n",
      "Epoch 14: 100%|█████████████████████████████████████████████████████████████| 17/17 [00:01<00:00,  9.22it/s, loss=1.99]\n"
     ]
    },
    {
     "name": "stdout",
     "output_type": "stream",
     "text": [
      "Epoch: 14 | Training loss 0.004507183927423533 | Validation loss 4.3819520964342\n"
     ]
    },
    {
     "name": "stderr",
     "output_type": "stream",
     "text": [
      "Epoch 15: 100%|█████████████████████████████████████████████████████████| 66/66 [00:21<00:00,  3.06it/s, loss=0.000371]\n",
      "Epoch 15: 100%|█████████████████████████████████████████████████████████████| 17/17 [00:01<00:00,  9.22it/s, loss=3.58]\n"
     ]
    },
    {
     "name": "stdout",
     "output_type": "stream",
     "text": [
      "Epoch: 15 | Training loss 0.003549834853567352 | Validation loss 4.505458565319286\n"
     ]
    },
    {
     "name": "stderr",
     "output_type": "stream",
     "text": [
      "Epoch 16: 100%|███████████████████████████████████████████████████████████| 66/66 [00:21<00:00,  3.06it/s, loss=4.9e-5]\n",
      "Epoch 16: 100%|█████████████████████████████████████████████████████████████| 17/17 [00:01<00:00,  9.21it/s, loss=4.44]\n"
     ]
    },
    {
     "name": "stdout",
     "output_type": "stream",
     "text": [
      "Epoch: 16 | Training loss 0.002361004598545454 | Validation loss 4.607528560301837\n"
     ]
    },
    {
     "name": "stderr",
     "output_type": "stream",
     "text": [
      "Epoch 17: 100%|█████████████████████████████████████████████████████████| 66/66 [00:21<00:00,  3.06it/s, loss=0.000343]\n",
      "Epoch 17: 100%|█████████████████████████████████████████████████████████████| 17/17 [00:01<00:00,  9.23it/s, loss=7.01]\n"
     ]
    },
    {
     "name": "stdout",
     "output_type": "stream",
     "text": [
      "Epoch: 17 | Training loss 0.0019370700357478308 | Validation loss 4.729051211301019\n"
     ]
    },
    {
     "name": "stderr",
     "output_type": "stream",
     "text": [
      "Epoch 18: 100%|█████████████████████████████████████████████████████████| 66/66 [00:21<00:00,  3.05it/s, loss=0.000203]\n",
      "Epoch 18: 100%|█████████████████████████████████████████████████████████████| 17/17 [00:01<00:00,  9.23it/s, loss=8.98]\n"
     ]
    },
    {
     "name": "stdout",
     "output_type": "stream",
     "text": [
      "Epoch: 18 | Training loss 0.0016953630787831958 | Validation loss 4.873315081876867\n"
     ]
    },
    {
     "name": "stderr",
     "output_type": "stream",
     "text": [
      "Epoch 19: 100%|██████████████████████████████████████████████████████████| 66/66 [00:21<00:00,  3.06it/s, loss=6.85e-5]\n",
      "Epoch 19: 100%|█████████████████████████████████████████████████████████████| 17/17 [00:01<00:00,  9.23it/s, loss=5.19]\n"
     ]
    },
    {
     "name": "stdout",
     "output_type": "stream",
     "text": [
      "Epoch: 19 | Training loss 0.0013085359104011193 | Validation loss 4.744127511978149\n"
     ]
    },
    {
     "name": "stderr",
     "output_type": "stream",
     "text": [
      "Epoch 20: 100%|█████████████████████████████████████████████████████████| 66/66 [00:21<00:00,  3.07it/s, loss=0.000138]\n",
      "Epoch 20: 100%|█████████████████████████████████████████████████████████████| 17/17 [00:01<00:00,  9.24it/s, loss=3.01]\n"
     ]
    },
    {
     "name": "stdout",
     "output_type": "stream",
     "text": [
      "Epoch: 20 | Training loss 0.0010337315469576315 | Validation loss 4.669773087782018\n"
     ]
    },
    {
     "name": "stderr",
     "output_type": "stream",
     "text": [
      "Epoch 21: 100%|█████████████████████████████████████████████████████████| 66/66 [00:21<00:00,  3.06it/s, loss=0.000215]\n",
      "Epoch 21: 100%|█████████████████████████████████████████████████████████████| 17/17 [00:01<00:00,  9.22it/s, loss=3.92]\n"
     ]
    },
    {
     "name": "stdout",
     "output_type": "stream",
     "text": [
      "Epoch: 21 | Training loss 0.0006900627242540588 | Validation loss 4.74539199997397\n"
     ]
    },
    {
     "name": "stderr",
     "output_type": "stream",
     "text": [
      "Epoch 22: 100%|█████████████████████████████████████████████████████████| 66/66 [00:21<00:00,  3.07it/s, loss=0.000157]\n",
      "Epoch 22: 100%|█████████████████████████████████████████████████████████████| 17/17 [00:01<00:00,  9.25it/s, loss=7.22]\n"
     ]
    },
    {
     "name": "stdout",
     "output_type": "stream",
     "text": [
      "Epoch: 22 | Training loss 0.00040125319025140595 | Validation loss 4.888493439730476\n"
     ]
    },
    {
     "name": "stderr",
     "output_type": "stream",
     "text": [
      "Epoch 23: 100%|█████████████████████████████████████████████████████████| 66/66 [00:21<00:00,  3.06it/s, loss=0.000182]\n",
      "Epoch 23: 100%|█████████████████████████████████████████████████████████████| 17/17 [00:01<00:00,  9.21it/s, loss=4.59]\n"
     ]
    },
    {
     "name": "stdout",
     "output_type": "stream",
     "text": [
      "Epoch: 23 | Training loss 0.00033118845573026744 | Validation loss 4.839887226329131\n"
     ]
    },
    {
     "name": "stderr",
     "output_type": "stream",
     "text": [
      "Epoch 24: 100%|██████████████████████████████████████████████████████████| 66/66 [00:21<00:00,  3.07it/s, loss=4.41e-5]\n",
      "Epoch 24: 100%|█████████████████████████████████████████████████████████████| 17/17 [00:01<00:00,  9.22it/s, loss=3.85]\n"
     ]
    },
    {
     "name": "stdout",
     "output_type": "stream",
     "text": [
      "Epoch: 24 | Training loss 0.000287430782036884 | Validation loss 4.829210295396693\n"
     ]
    },
    {
     "name": "stderr",
     "output_type": "stream",
     "text": [
      "Epoch 25: 100%|█████████████████████████████████████████████████████████| 66/66 [00:21<00:00,  3.06it/s, loss=0.000464]\n",
      "Epoch 25: 100%|██████████████████████████████████████████████████████████████| 17/17 [00:01<00:00,  9.24it/s, loss=5.8]\n"
     ]
    },
    {
     "name": "stdout",
     "output_type": "stream",
     "text": [
      "Epoch: 25 | Training loss 0.00025952121794751184 | Validation loss 4.928402578129488\n"
     ]
    },
    {
     "name": "stderr",
     "output_type": "stream",
     "text": [
      "Epoch 26: 100%|██████████████████████████████████████████████████████████| 66/66 [00:21<00:00,  3.06it/s, loss=6.31e-5]\n",
      "Epoch 26: 100%|█████████████████████████████████████████████████████████████| 17/17 [00:01<00:00,  9.22it/s, loss=5.12]\n"
     ]
    },
    {
     "name": "stdout",
     "output_type": "stream",
     "text": [
      "Epoch: 26 | Training loss 0.00022731094665659563 | Validation loss 4.921408765456256\n"
     ]
    },
    {
     "name": "stderr",
     "output_type": "stream",
     "text": [
      "Epoch 27: 100%|██████████████████████████████████████████████████████████| 66/66 [00:21<00:00,  3.06it/s, loss=8.92e-5]\n",
      "Epoch 27: 100%|██████████████████████████████████████████████████████████████| 17/17 [00:01<00:00,  9.18it/s, loss=4.8]\n"
     ]
    },
    {
     "name": "stdout",
     "output_type": "stream",
     "text": [
      "Epoch: 27 | Training loss 0.00020667602108336393 | Validation loss 4.93284358697779\n"
     ]
    },
    {
     "name": "stderr",
     "output_type": "stream",
     "text": [
      "Epoch 28: 100%|█████████████████████████████████████████████████████████| 66/66 [00:21<00:00,  3.06it/s, loss=0.000197]\n",
      "Epoch 28: 100%|█████████████████████████████████████████████████████████████| 17/17 [00:01<00:00,  9.19it/s, loss=5.01]\n"
     ]
    },
    {
     "name": "stdout",
     "output_type": "stream",
     "text": [
      "Epoch: 28 | Training loss 0.00018895220102532414 | Validation loss 4.957742424572215\n"
     ]
    },
    {
     "name": "stderr",
     "output_type": "stream",
     "text": [
      "Epoch 29: 100%|██████████████████████████████████████████████████████████| 66/66 [00:21<00:00,  3.06it/s, loss=6.81e-5]\n",
      "Epoch 29: 100%|█████████████████████████████████████████████████████████████| 17/17 [00:01<00:00,  9.23it/s, loss=5.82]\n"
     ]
    },
    {
     "name": "stdout",
     "output_type": "stream",
     "text": [
      "Epoch: 29 | Training loss 0.00017134061134570265 | Validation loss 5.010937354143928\n"
     ]
    },
    {
     "name": "stderr",
     "output_type": "stream",
     "text": [
      "Epoch 30: 100%|██████████████████████████████████████████████████████████| 66/66 [00:21<00:00,  3.06it/s, loss=0.00011]\n",
      "Epoch 30: 100%|█████████████████████████████████████████████████████████████| 17/17 [00:01<00:00,  9.23it/s, loss=8.14]\n"
     ]
    },
    {
     "name": "stdout",
     "output_type": "stream",
     "text": [
      "Epoch: 30 | Training loss 0.0001574972548593051 | Validation loss 5.1107188112595505\n"
     ]
    },
    {
     "name": "stderr",
     "output_type": "stream",
     "text": [
      "Epoch 31: 100%|██████████████████████████████████████████████████████████| 66/66 [00:21<00:00,  3.06it/s, loss=6.67e-5]\n",
      "Epoch 31: 100%|█████████████████████████████████████████████████████████████| 17/17 [00:01<00:00,  9.20it/s, loss=2.88]\n"
     ]
    },
    {
     "name": "stdout",
     "output_type": "stream",
     "text": [
      "Epoch: 31 | Training loss 0.0001446052074794407 | Validation loss 4.933800290612614\n"
     ]
    },
    {
     "name": "stderr",
     "output_type": "stream",
     "text": [
      "Epoch 32: 100%|██████████████████████████████████████████████████████████| 66/66 [00:21<00:00,  3.06it/s, loss=3.07e-5]\n",
      "Epoch 32: 100%|██████████████████████████████████████████████████████████████| 17/17 [00:01<00:00,  9.23it/s, loss=2.2]\n"
     ]
    },
    {
     "name": "stdout",
     "output_type": "stream",
     "text": [
      "Epoch: 32 | Training loss 0.0001328318693402142 | Validation loss 4.931157659081852\n"
     ]
    },
    {
     "name": "stderr",
     "output_type": "stream",
     "text": [
      "Epoch 33: 100%|██████████████████████████████████████████████████████████| 66/66 [00:21<00:00,  3.06it/s, loss=2.76e-5]\n",
      "Epoch 33: 100%|█████████████████████████████████████████████████████████████| 17/17 [00:01<00:00,  9.24it/s, loss=7.21]\n"
     ]
    },
    {
     "name": "stdout",
     "output_type": "stream",
     "text": [
      "Epoch: 33 | Training loss 0.00012249040155714312 | Validation loss 5.123150769401999\n"
     ]
    },
    {
     "name": "stderr",
     "output_type": "stream",
     "text": [
      "Epoch 34: 100%|██████████████████████████████████████████████████████████| 66/66 [00:21<00:00,  3.06it/s, loss=6.36e-5]\n",
      "Epoch 34: 100%|█████████████████████████████████████████████████████████████| 17/17 [00:01<00:00,  9.23it/s, loss=3.71]\n"
     ]
    },
    {
     "name": "stdout",
     "output_type": "stream",
     "text": [
      "Epoch: 34 | Training loss 0.00011372436617393484 | Validation loss 5.01623779184678\n"
     ]
    },
    {
     "name": "stderr",
     "output_type": "stream",
     "text": [
      "Epoch 35: 100%|██████████████████████████████████████████████████████████| 66/66 [00:21<00:00,  3.06it/s, loss=9.42e-5]\n",
      "Epoch 35: 100%|█████████████████████████████████████████████████████████████| 17/17 [00:01<00:00,  9.21it/s, loss=3.74]\n"
     ]
    },
    {
     "name": "stdout",
     "output_type": "stream",
     "text": [
      "Epoch: 35 | Training loss 0.00010505379249838315 | Validation loss 5.032585228190703\n"
     ]
    },
    {
     "name": "stderr",
     "output_type": "stream",
     "text": [
      "Epoch 36: 100%|███████████████████████████████████████████████████████████| 66/66 [00:21<00:00,  3.06it/s, loss=9.1e-5]\n",
      "Epoch 36: 100%|█████████████████████████████████████████████████████████████| 17/17 [00:01<00:00,  9.20it/s, loss=6.57]\n"
     ]
    },
    {
     "name": "stdout",
     "output_type": "stream",
     "text": [
      "Epoch: 36 | Training loss 9.703400130754083e-05 | Validation loss 5.145691535052131\n"
     ]
    },
    {
     "name": "stderr",
     "output_type": "stream",
     "text": [
      "Epoch 37: 100%|██████████████████████████████████████████████████████████| 66/66 [00:21<00:00,  3.06it/s, loss=9.03e-6]\n",
      "Epoch 37: 100%|█████████████████████████████████████████████████████████████| 17/17 [00:01<00:00,  9.19it/s, loss=2.65]\n"
     ]
    },
    {
     "name": "stdout",
     "output_type": "stream",
     "text": [
      "Epoch: 37 | Training loss 8.903911814493107e-05 | Validation loss 5.0200689820682305\n"
     ]
    },
    {
     "name": "stderr",
     "output_type": "stream",
     "text": [
      "Epoch 38: 100%|██████████████████████████████████████████████████████████| 66/66 [00:21<00:00,  3.06it/s, loss=1.34e-5]\n",
      "Epoch 38: 100%|█████████████████████████████████████████████████████████████| 17/17 [00:01<00:00,  9.21it/s, loss=4.17]\n"
     ]
    },
    {
     "name": "stdout",
     "output_type": "stream",
     "text": [
      "Epoch: 38 | Training loss 8.282236310399391e-05 | Validation loss 5.084892076604507\n"
     ]
    },
    {
     "name": "stderr",
     "output_type": "stream",
     "text": [
      "Epoch 39: 100%|██████████████████████████████████████████████████████████| 66/66 [00:21<00:00,  3.06it/s, loss=4.87e-5]\n",
      "Epoch 39: 100%|█████████████████████████████████████████████████████████████| 17/17 [00:01<00:00,  9.21it/s, loss=5.67]\n"
     ]
    },
    {
     "name": "stdout",
     "output_type": "stream",
     "text": [
      "Epoch: 39 | Training loss 7.790181514406648e-05 | Validation loss 5.152520824881161\n"
     ]
    },
    {
     "name": "stderr",
     "output_type": "stream",
     "text": [
      "Epoch 40: 100%|█████████████████████████████████████████████████████████| 66/66 [00:21<00:00,  3.06it/s, loss=0.000115]\n",
      "Epoch 40: 100%|█████████████████████████████████████████████████████████████| 17/17 [00:01<00:00,  9.21it/s, loss=10.7]\n"
     ]
    },
    {
     "name": "stdout",
     "output_type": "stream",
     "text": [
      "Epoch: 40 | Training loss 7.360352854889105e-05 | Validation loss 5.346507352941177\n"
     ]
    },
    {
     "name": "stderr",
     "output_type": "stream",
     "text": [
      "Epoch 41: 100%|██████████████████████████████████████████████████████████| 66/66 [00:21<00:00,  3.06it/s, loss=4.65e-5]\n",
      "Epoch 41: 100%|█████████████████████████████████████████████████████████████| 17/17 [00:01<00:00,  9.19it/s, loss=6.16]\n"
     ]
    },
    {
     "name": "stdout",
     "output_type": "stream",
     "text": [
      "Epoch: 41 | Training loss 6.803692698061543e-05 | Validation loss 5.201286456164191\n"
     ]
    },
    {
     "name": "stderr",
     "output_type": "stream",
     "text": [
      "Epoch 42: 100%|█████████████████████████████████████████████████████████| 66/66 [00:21<00:00,  3.06it/s, loss=0.000127]\n",
      "Epoch 42: 100%|█████████████████████████████████████████████████████████████| 17/17 [00:01<00:00,  9.18it/s, loss=5.74]\n"
     ]
    },
    {
     "name": "stdout",
     "output_type": "stream",
     "text": [
      "Epoch: 42 | Training loss 6.49738817490729e-05 | Validation loss 5.199137463289149\n"
     ]
    },
    {
     "name": "stderr",
     "output_type": "stream",
     "text": [
      "Epoch 43: 100%|██████████████████████████████████████████████████████████| 66/66 [00:21<00:00,  3.06it/s, loss=7.13e-5]\n",
      "Epoch 43: 100%|█████████████████████████████████████████████████████████████| 17/17 [00:01<00:00,  9.22it/s, loss=6.08]\n"
     ]
    },
    {
     "name": "stdout",
     "output_type": "stream",
     "text": [
      "Epoch: 43 | Training loss 6.017298298474722e-05 | Validation loss 5.2214497117435235\n"
     ]
    },
    {
     "name": "stderr",
     "output_type": "stream",
     "text": [
      "Epoch 44: 100%|██████████████████████████████████████████████████████████| 66/66 [00:21<00:00,  3.06it/s, loss=5.84e-5]\n",
      "Epoch 44: 100%|█████████████████████████████████████████████████████████████| 17/17 [00:01<00:00,  9.25it/s, loss=3.38]\n"
     ]
    },
    {
     "name": "stdout",
     "output_type": "stream",
     "text": [
      "Epoch: 44 | Training loss 5.6588318536589874e-05 | Validation loss 5.139783620834351\n"
     ]
    },
    {
     "name": "stderr",
     "output_type": "stream",
     "text": [
      "Epoch 45: 100%|██████████████████████████████████████████████████████████| 66/66 [00:21<00:00,  3.07it/s, loss=7.96e-5]\n",
      "Epoch 45: 100%|█████████████████████████████████████████████████████████████| 17/17 [00:01<00:00,  9.27it/s, loss=8.17]\n"
     ]
    },
    {
     "name": "stdout",
     "output_type": "stream",
     "text": [
      "Epoch: 45 | Training loss 5.356349929846174e-05 | Validation loss 5.320916063645306\n"
     ]
    },
    {
     "name": "stderr",
     "output_type": "stream",
     "text": [
      "Epoch 46: 100%|███████████████████████████████████████████████████████████| 66/66 [00:21<00:00,  3.06it/s, loss=2.1e-5]\n",
      "Epoch 46: 100%|█████████████████████████████████████████████████████████████| 17/17 [00:01<00:00,  9.23it/s, loss=6.14]\n"
     ]
    },
    {
     "name": "stdout",
     "output_type": "stream",
     "text": [
      "Epoch: 46 | Training loss 4.97799885234792e-05 | Validation loss 5.259597301483154\n"
     ]
    },
    {
     "name": "stderr",
     "output_type": "stream",
     "text": [
      "Epoch 47: 100%|██████████████████████████████████████████████████████████| 66/66 [00:21<00:00,  3.06it/s, loss=2.66e-5]\n",
      "Epoch 47: 100%|█████████████████████████████████████████████████████████████| 17/17 [00:01<00:00,  9.20it/s, loss=4.14]\n"
     ]
    },
    {
     "name": "stdout",
     "output_type": "stream",
     "text": [
      "Epoch: 47 | Training loss 4.707850337471234e-05 | Validation loss 5.201458398033591\n"
     ]
    },
    {
     "name": "stderr",
     "output_type": "stream",
     "text": [
      "Epoch 48: 100%|██████████████████████████████████████████████████████████| 66/66 [00:21<00:00,  3.06it/s, loss=3.07e-5]\n",
      "Epoch 48: 100%|█████████████████████████████████████████████████████████████| 17/17 [00:01<00:00,  9.22it/s, loss=2.86]\n"
     ]
    },
    {
     "name": "stdout",
     "output_type": "stream",
     "text": [
      "Epoch: 48 | Training loss 4.452513195990998e-05 | Validation loss 5.162718197878669\n"
     ]
    },
    {
     "name": "stderr",
     "output_type": "stream",
     "text": [
      "Epoch 49: 100%|██████████████████████████████████████████████████████████| 66/66 [00:21<00:00,  3.06it/s, loss=2.44e-5]\n",
      "Epoch 49: 100%|█████████████████████████████████████████████████████████████| 17/17 [00:01<00:00,  9.24it/s, loss=4.16]\n"
     ]
    },
    {
     "name": "stdout",
     "output_type": "stream",
     "text": [
      "Epoch: 49 | Training loss 4.220187299848256e-05 | Validation loss 5.223015462650972\n"
     ]
    },
    {
     "name": "stderr",
     "output_type": "stream",
     "text": [
      "Epoch 50: 100%|██████████████████████████████████████████████████████████| 66/66 [00:21<00:00,  3.06it/s, loss=1.09e-5]\n",
      "Epoch 50: 100%|█████████████████████████████████████████████████████████████| 17/17 [00:01<00:00,  9.23it/s, loss=5.73]\n"
     ]
    },
    {
     "name": "stdout",
     "output_type": "stream",
     "text": [
      "Epoch: 50 | Training loss 3.959724235204648e-05 | Validation loss 5.288035056170295\n"
     ]
    },
    {
     "name": "stderr",
     "output_type": "stream",
     "text": [
      "Epoch 51: 100%|██████████████████████████████████████████████████████████| 66/66 [00:21<00:00,  3.06it/s, loss=1.51e-5]\n",
      "Epoch 51: 100%|█████████████████████████████████████████████████████████████| 17/17 [00:01<00:00,  9.23it/s, loss=3.11]\n"
     ]
    },
    {
     "name": "stdout",
     "output_type": "stream",
     "text": [
      "Epoch: 51 | Training loss 3.755264788196655e-05 | Validation loss 5.211394646588494\n"
     ]
    },
    {
     "name": "stderr",
     "output_type": "stream",
     "text": [
      "Epoch 52: 100%|██████████████████████████████████████████████████████████| 66/66 [00:21<00:00,  3.07it/s, loss=2.06e-5]\n",
      "Epoch 52: 100%|██████████████████████████████████████████████████████████████| 17/17 [00:01<00:00,  9.22it/s, loss=4.8]\n"
     ]
    },
    {
     "name": "stdout",
     "output_type": "stream",
     "text": [
      "Epoch: 52 | Training loss 3.5619961333092455e-05 | Validation loss 5.274353868821088\n"
     ]
    },
    {
     "name": "stderr",
     "output_type": "stream",
     "text": [
      "Epoch 53: 100%|██████████████████████████████████████████████████████████| 66/66 [00:21<00:00,  3.06it/s, loss=2.01e-5]\n",
      "Epoch 53: 100%|█████████████████████████████████████████████████████████████| 17/17 [00:01<00:00,  9.23it/s, loss=5.91]\n"
     ]
    },
    {
     "name": "stdout",
     "output_type": "stream",
     "text": [
      "Epoch: 53 | Training loss 3.37817243069532e-05 | Validation loss 5.323093246011173\n"
     ]
    },
    {
     "name": "stderr",
     "output_type": "stream",
     "text": [
      "Epoch 54: 100%|██████████████████████████████████████████████████████████| 66/66 [00:21<00:00,  3.06it/s, loss=2.98e-6]\n",
      "Epoch 54: 100%|█████████████████████████████████████████████████████████████| 17/17 [00:01<00:00,  9.24it/s, loss=5.69]\n"
     ]
    },
    {
     "name": "stdout",
     "output_type": "stream",
     "text": [
      "Epoch: 54 | Training loss 3.1852771158038664e-05 | Validation loss 5.325367324492511\n"
     ]
    },
    {
     "name": "stderr",
     "output_type": "stream",
     "text": [
      "Epoch 55: 100%|██████████████████████████████████████████████████████████| 66/66 [00:21<00:00,  3.06it/s, loss=2.14e-5]\n",
      "Epoch 55: 100%|█████████████████████████████████████████████████████████████| 17/17 [00:01<00:00,  9.28it/s, loss=6.03]\n"
     ]
    },
    {
     "name": "stdout",
     "output_type": "stream",
     "text": [
      "Epoch: 55 | Training loss 3.046927951910413e-05 | Validation loss 5.35148957196404\n"
     ]
    },
    {
     "name": "stderr",
     "output_type": "stream",
     "text": [
      "Epoch 56: 100%|██████████████████████████████████████████████████████████| 66/66 [00:21<00:00,  3.06it/s, loss=1.06e-5]\n",
      "Epoch 56: 100%|█████████████████████████████████████████████████████████████| 17/17 [00:01<00:00,  9.24it/s, loss=4.32]\n"
     ]
    },
    {
     "name": "stdout",
     "output_type": "stream",
     "text": [
      "Epoch: 56 | Training loss 2.8756924235274322e-05 | Validation loss 5.300153227413402\n"
     ]
    },
    {
     "name": "stderr",
     "output_type": "stream",
     "text": [
      "Epoch 57: 100%|██████████████████████████████████████████████████████████| 66/66 [00:21<00:00,  3.06it/s, loss=1.53e-5]\n",
      "Epoch 57: 100%|█████████████████████████████████████████████████████████████| 17/17 [00:01<00:00,  9.28it/s, loss=4.21]\n"
     ]
    },
    {
     "name": "stdout",
     "output_type": "stream",
     "text": [
      "Epoch: 57 | Training loss 2.74671890358811e-05 | Validation loss 5.304138954947977\n"
     ]
    },
    {
     "name": "stderr",
     "output_type": "stream",
     "text": [
      "Epoch 58: 100%|██████████████████████████████████████████████████████████| 66/66 [00:21<00:00,  3.06it/s, loss=1.45e-5]\n",
      "Epoch 58: 100%|█████████████████████████████████████████████████████████████| 17/17 [00:01<00:00,  9.24it/s, loss=6.98]\n"
     ]
    },
    {
     "name": "stdout",
     "output_type": "stream",
     "text": [
      "Epoch: 58 | Training loss 2.6096936615045486e-05 | Validation loss 5.413775107439826\n"
     ]
    },
    {
     "name": "stderr",
     "output_type": "stream",
     "text": [
      "Epoch 59: 100%|██████████████████████████████████████████████████████████| 66/66 [00:21<00:00,  3.06it/s, loss=7.45e-6]\n",
      "Epoch 59: 100%|██████████████████████████████████████████████████████████████| 17/17 [00:01<00:00,  9.23it/s, loss=2.7]\n"
     ]
    },
    {
     "name": "stdout",
     "output_type": "stream",
     "text": [
      "Epoch: 59 | Training loss 2.472952300277856e-05 | Validation loss 5.271966948228724\n"
     ]
    },
    {
     "name": "stderr",
     "output_type": "stream",
     "text": [
      "Epoch 60: 100%|██████████████████████████████████████████████████████████| 66/66 [00:21<00:00,  3.06it/s, loss=1.07e-5]\n",
      "Epoch 60: 100%|█████████████████████████████████████████████████████████████| 17/17 [00:01<00:00,  9.23it/s, loss=4.72]\n"
     ]
    },
    {
     "name": "stdout",
     "output_type": "stream",
     "text": [
      "Epoch: 60 | Training loss 2.352652640955498e-05 | Validation loss 5.351460849537569\n"
     ]
    },
    {
     "name": "stderr",
     "output_type": "stream",
     "text": [
      "Epoch 61: 100%|██████████████████████████████████████████████████████████| 66/66 [00:21<00:00,  3.06it/s, loss=3.87e-6]\n",
      "Epoch 61: 100%|█████████████████████████████████████████████████████████████| 17/17 [00:01<00:00,  9.25it/s, loss=4.71]\n"
     ]
    },
    {
     "name": "stdout",
     "output_type": "stream",
     "text": [
      "Epoch: 61 | Training loss 2.242744117073457e-05 | Validation loss 5.359486187205595\n"
     ]
    },
    {
     "name": "stderr",
     "output_type": "stream",
     "text": [
      "Epoch 62: 100%|██████████████████████████████████████████████████████████| 66/66 [00:21<00:00,  3.06it/s, loss=1.14e-5]\n",
      "Epoch 62: 100%|█████████████████████████████████████████████████████████████| 17/17 [00:01<00:00,  9.23it/s, loss=4.26]\n"
     ]
    },
    {
     "name": "stdout",
     "output_type": "stream",
     "text": [
      "Epoch: 62 | Training loss 2.1400645347525963e-05 | Validation loss 5.354458374135635\n"
     ]
    },
    {
     "name": "stderr",
     "output_type": "stream",
     "text": [
      "Epoch 63: 100%|██████████████████████████████████████████████████████████| 66/66 [00:21<00:00,  3.06it/s, loss=5.36e-6]\n",
      "Epoch 63: 100%|█████████████████████████████████████████████████████████████| 17/17 [00:01<00:00,  9.25it/s, loss=4.94]\n"
     ]
    },
    {
     "name": "stdout",
     "output_type": "stream",
     "text": [
      "Epoch: 63 | Training loss 2.031955619079809e-05 | Validation loss 5.383881148170023\n"
     ]
    },
    {
     "name": "stderr",
     "output_type": "stream",
     "text": [
      "Epoch 64: 100%|██████████████████████████████████████████████████████████| 66/66 [00:21<00:00,  3.06it/s, loss=1.64e-5]\n",
      "Epoch 64: 100%|██████████████████████████████████████████████████████████████| 17/17 [00:01<00:00,  9.25it/s, loss=4.1]\n"
     ]
    },
    {
     "name": "stdout",
     "output_type": "stream",
     "text": [
      "Epoch: 64 | Training loss 1.9531874847940124e-05 | Validation loss 5.363582611083984\n"
     ]
    },
    {
     "name": "stderr",
     "output_type": "stream",
     "text": [
      "Epoch 65: 100%|██████████████████████████████████████████████████████████| 66/66 [00:21<00:00,  3.06it/s, loss=2.51e-5]\n",
      "Epoch 65: 100%|█████████████████████████████████████████████████████████████| 17/17 [00:01<00:00,  9.24it/s, loss=5.64]\n"
     ]
    },
    {
     "name": "stdout",
     "output_type": "stream",
     "text": [
      "Epoch: 65 | Training loss 1.8755199848232167e-05 | Validation loss 5.4319621534908515\n"
     ]
    },
    {
     "name": "stderr",
     "output_type": "stream",
     "text": [
      "Epoch 66: 100%|██████████████████████████████████████████████████████████| 66/66 [00:21<00:00,  3.06it/s, loss=5.55e-5]\n",
      "Epoch 66: 100%|██████████████████████████████████████████████████████████████| 17/17 [00:01<00:00,  9.25it/s, loss=7.5]\n"
     ]
    },
    {
     "name": "stdout",
     "output_type": "stream",
     "text": [
      "Epoch: 66 | Training loss 1.821929917737593e-05 | Validation loss 5.505562445696662\n"
     ]
    },
    {
     "name": "stderr",
     "output_type": "stream",
     "text": [
      "Epoch 67: 100%|██████████████████████████████████████████████████████████| 66/66 [00:21<00:00,  3.06it/s, loss=1.39e-5]\n",
      "Epoch 67: 100%|█████████████████████████████████████████████████████████████| 17/17 [00:01<00:00,  9.24it/s, loss=3.25]\n"
     ]
    },
    {
     "name": "stdout",
     "output_type": "stream",
     "text": [
      "Epoch: 67 | Training loss 1.692508520577438e-05 | Validation loss 5.363031597698436\n"
     ]
    },
    {
     "name": "stderr",
     "output_type": "stream",
     "text": [
      "Epoch 68: 100%|██████████████████████████████████████████████████████████| 66/66 [00:21<00:00,  3.06it/s, loss=1.64e-6]\n",
      "Epoch 68: 100%|█████████████████████████████████████████████████████████████| 17/17 [00:01<00:00,  9.22it/s, loss=5.37]\n"
     ]
    },
    {
     "name": "stdout",
     "output_type": "stream",
     "text": [
      "Epoch: 68 | Training loss 1.601387959805255e-05 | Validation loss 5.445512140498442\n"
     ]
    },
    {
     "name": "stderr",
     "output_type": "stream",
     "text": [
      "Epoch 69: 100%|██████████████████████████████████████████████████████████| 66/66 [00:21<00:00,  3.06it/s, loss=2.07e-5]\n",
      "Epoch 69: 100%|█████████████████████████████████████████████████████████████| 17/17 [00:01<00:00,  9.20it/s, loss=6.27]\n"
     ]
    },
    {
     "name": "stdout",
     "output_type": "stream",
     "text": [
      "Epoch: 69 | Training loss 1.5514311295798205e-05 | Validation loss 5.485231175142176\n"
     ]
    },
    {
     "name": "stderr",
     "output_type": "stream",
     "text": [
      "Epoch 70: 100%|█████████████████████████████████████████████████████████| 66/66 [00:21<00:00,  3.06it/s, loss=0.000389]\n",
      "Epoch 70: 100%|██████████████████████████████████████████████████████████████| 17/17 [00:01<00:00,  9.19it/s, loss=3.9]\n"
     ]
    },
    {
     "name": "stdout",
     "output_type": "stream",
     "text": [
      "Epoch: 70 | Training loss 1.9314546403675745e-05 | Validation loss 5.4131890745723945\n"
     ]
    },
    {
     "name": "stderr",
     "output_type": "stream",
     "text": [
      "Epoch 71: 100%|██████████████████████████████████████████████████████████| 66/66 [00:21<00:00,  3.06it/s, loss=3.99e-6]\n",
      "Epoch 71: 100%|█████████████████████████████████████████████████████████████| 17/17 [00:01<00:00,  9.20it/s, loss=8.26]\n"
     ]
    },
    {
     "name": "stdout",
     "output_type": "stream",
     "text": [
      "Epoch: 71 | Training loss 1.403308073983653e-05 | Validation loss 5.573358241249533\n"
     ]
    },
    {
     "name": "stderr",
     "output_type": "stream",
     "text": [
      "Epoch 72: 100%|██████████████████████████████████████████████████████████| 66/66 [00:21<00:00,  3.06it/s, loss=4.89e-6]\n",
      "Epoch 72: 100%|█████████████████████████████████████████████████████████████| 17/17 [00:01<00:00,  9.18it/s, loss=2.97]\n"
     ]
    },
    {
     "name": "stdout",
     "output_type": "stream",
     "text": [
      "Epoch: 72 | Training loss 1.3290068829629684e-05 | Validation loss 5.3928007518543915\n"
     ]
    },
    {
     "name": "stderr",
     "output_type": "stream",
     "text": [
      "Epoch 73: 100%|██████████████████████████████████████████████████████████| 66/66 [00:21<00:00,  3.07it/s, loss=1.85e-5]\n",
      "Epoch 73: 100%|█████████████████████████████████████████████████████████████| 17/17 [00:01<00:00,  9.22it/s, loss=8.08]\n"
     ]
    },
    {
     "name": "stdout",
     "output_type": "stream",
     "text": [
      "Epoch: 73 | Training loss 1.2852949828701446e-05 | Validation loss 5.581164612489588\n"
     ]
    },
    {
     "name": "stderr",
     "output_type": "stream",
     "text": [
      "Epoch 74: 100%|██████████████████████████████████████████████████████████| 66/66 [00:21<00:00,  3.07it/s, loss=2.02e-5]\n",
      "Epoch 74: 100%|█████████████████████████████████████████████████████████████| 17/17 [00:01<00:00,  9.19it/s, loss=8.87]\n"
     ]
    },
    {
     "name": "stdout",
     "output_type": "stream",
     "text": [
      "Epoch: 74 | Training loss 1.230582239658719e-05 | Validation loss 5.624244563719806\n"
     ]
    },
    {
     "name": "stderr",
     "output_type": "stream",
     "text": [
      "Epoch 75: 100%|██████████████████████████████████████████████████████████| 66/66 [00:21<00:00,  3.06it/s, loss=1.64e-6]\n",
      "Epoch 75: 100%|█████████████████████████████████████████████████████████████| 17/17 [00:01<00:00,  9.21it/s, loss=6.48]\n"
     ]
    },
    {
     "name": "stdout",
     "output_type": "stream",
     "text": [
      "Epoch: 75 | Training loss 1.1571382825340235e-05 | Validation loss 5.544490772135117\n"
     ]
    },
    {
     "name": "stderr",
     "output_type": "stream",
     "text": [
      "Epoch 76: 100%|██████████████████████████████████████████████████████████| 66/66 [00:21<00:00,  3.06it/s, loss=7.12e-6]\n",
      "Epoch 76: 100%|█████████████████████████████████████████████████████████████| 17/17 [00:01<00:00,  9.22it/s, loss=4.62]\n"
     ]
    },
    {
     "name": "stdout",
     "output_type": "stream",
     "text": [
      "Epoch: 76 | Training loss 1.1140738992611604e-05 | Validation loss 5.488478295943317\n"
     ]
    },
    {
     "name": "stderr",
     "output_type": "stream",
     "text": [
      "Epoch 77: 100%|██████████████████████████████████████████████████████████| 66/66 [00:21<00:00,  3.06it/s, loss=5.16e-6]\n",
      "Epoch 77: 100%|██████████████████████████████████████████████████████████████| 17/17 [00:01<00:00,  9.22it/s, loss=4.1]\n"
     ]
    },
    {
     "name": "stdout",
     "output_type": "stream",
     "text": [
      "Epoch: 77 | Training loss 1.0661328412259701e-05 | Validation loss 5.476217676611507\n"
     ]
    },
    {
     "name": "stderr",
     "output_type": "stream",
     "text": [
      "Epoch 78: 100%|███████████████████████████████████████████████████████████| 66/66 [00:21<00:00,  3.06it/s, loss=4.2e-6]\n",
      "Epoch 78: 100%|██████████████████████████████████████████████████████████████| 17/17 [00:01<00:00,  9.23it/s, loss=4.4]\n"
     ]
    },
    {
     "name": "stdout",
     "output_type": "stream",
     "text": [
      "Epoch: 78 | Training loss 1.0212074523058783e-05 | Validation loss 5.500149278079762\n"
     ]
    },
    {
     "name": "stderr",
     "output_type": "stream",
     "text": [
      "Epoch 79: 100%|█████████████████████████████████████████████████████████| 66/66 [00:21<00:00,  3.06it/s, loss=0.000101]\n",
      "Epoch 79: 100%|█████████████████████████████████████████████████████████████| 17/17 [00:01<00:00,  9.22it/s, loss=5.73]\n"
     ]
    },
    {
     "name": "stdout",
     "output_type": "stream",
     "text": [
      "Epoch: 79 | Training loss 1.0944566859259133e-05 | Validation loss 5.555085252313053\n"
     ]
    },
    {
     "name": "stderr",
     "output_type": "stream",
     "text": [
      "Epoch 80: 100%|███████████████████████████████████████████████████████████| 66/66 [00:21<00:00,  3.06it/s, loss=7.9e-6]\n",
      "Epoch 80: 100%|█████████████████████████████████████████████████████████████| 17/17 [00:01<00:00,  9.21it/s, loss=5.18]\n"
     ]
    },
    {
     "name": "stdout",
     "output_type": "stream",
     "text": [
      "Epoch: 80 | Training loss 9.41935779723501e-06 | Validation loss 5.542449726777918\n"
     ]
    },
    {
     "name": "stderr",
     "output_type": "stream",
     "text": [
      "Epoch 81: 100%|██████████████████████████████████████████████████████████| 66/66 [00:21<00:00,  3.06it/s, loss=2.59e-6]\n",
      "Epoch 81: 100%|█████████████████████████████████████████████████████████████| 17/17 [00:01<00:00,  9.23it/s, loss=6.96]\n"
     ]
    },
    {
     "name": "stdout",
     "output_type": "stream",
     "text": [
      "Epoch: 81 | Training loss 8.935803827736175e-06 | Validation loss 5.611561887404498\n"
     ]
    },
    {
     "name": "stderr",
     "output_type": "stream",
     "text": [
      "Epoch 82: 100%|██████████████████████████████████████████████████████████| 66/66 [00:21<00:00,  3.06it/s, loss=6.71e-6]\n",
      "Epoch 82: 100%|█████████████████████████████████████████████████████████████| 17/17 [00:01<00:00,  9.20it/s, loss=7.87]\n"
     ]
    },
    {
     "name": "stdout",
     "output_type": "stream",
     "text": [
      "Epoch: 82 | Training loss 8.611085921515812e-06 | Validation loss 5.6537604752708885\n"
     ]
    },
    {
     "name": "stderr",
     "output_type": "stream",
     "text": [
      "Epoch 83: 100%|██████████████████████████████████████████████████████████| 66/66 [00:21<00:00,  3.06it/s, loss=2.44e-6]\n",
      "Epoch 83: 100%|█████████████████████████████████████████████████████████████| 17/17 [00:01<00:00,  9.19it/s, loss=4.16]\n"
     ]
    },
    {
     "name": "stdout",
     "output_type": "stream",
     "text": [
      "Epoch: 83 | Training loss 8.219887897184615e-06 | Validation loss 5.528329877292409\n"
     ]
    },
    {
     "name": "stderr",
     "output_type": "stream",
     "text": [
      "Epoch 84: 100%|██████████████████████████████████████████████████████████| 66/66 [00:21<00:00,  3.06it/s, loss=3.22e-6]\n",
      "Epoch 84: 100%|█████████████████████████████████████████████████████████████| 17/17 [00:01<00:00,  9.21it/s, loss=8.74]\n"
     ]
    },
    {
     "name": "stdout",
     "output_type": "stream",
     "text": [
      "Epoch: 84 | Training loss 7.887306713366177e-06 | Validation loss 5.6964930927052215\n"
     ]
    },
    {
     "name": "stderr",
     "output_type": "stream",
     "text": [
      "Epoch 85: 100%|██████████████████████████████████████████████████████████| 66/66 [00:21<00:00,  3.06it/s, loss=1.79e-5]\n",
      "Epoch 85: 100%|█████████████████████████████████████████████████████████████| 17/17 [00:01<00:00,  9.19it/s, loss=2.69]\n"
     ]
    },
    {
     "name": "stdout",
     "output_type": "stream",
     "text": [
      "Epoch: 85 | Training loss 7.775973548026135e-06 | Validation loss 5.489603968227611\n"
     ]
    },
    {
     "name": "stderr",
     "output_type": "stream",
     "text": [
      "Epoch 86: 100%|██████████████████████████████████████████████████████████| 66/66 [00:21<00:00,  3.05it/s, loss=4.26e-6]\n",
      "Epoch 86: 100%|█████████████████████████████████████████████████████████████| 17/17 [00:01<00:00,  9.20it/s, loss=4.55]\n"
     ]
    },
    {
     "name": "stdout",
     "output_type": "stream",
     "text": [
      "Epoch: 86 | Training loss 7.286790705482858e-06 | Validation loss 5.561329322702744\n"
     ]
    },
    {
     "name": "stderr",
     "output_type": "stream",
     "text": [
      "Epoch 87: 100%|█████████████████████████████████████████████████████████████| 66/66 [00:21<00:00,  3.06it/s, loss=9e-6]\n",
      "Epoch 87: 100%|█████████████████████████████████████████████████████████████| 17/17 [00:01<00:00,  9.24it/s, loss=4.68]\n"
     ]
    },
    {
     "name": "stdout",
     "output_type": "stream",
     "text": [
      "Epoch: 87 | Training loss 7.070877486650275e-06 | Validation loss 5.572943645365098\n"
     ]
    },
    {
     "name": "stderr",
     "output_type": "stream",
     "text": [
      "Epoch 88: 100%|██████████████████████████████████████████████████████████| 66/66 [00:21<00:00,  3.06it/s, loss=1.16e-5]\n",
      "Epoch 88: 100%|█████████████████████████████████████████████████████████████| 17/17 [00:01<00:00,  9.19it/s, loss=4.38]\n"
     ]
    },
    {
     "name": "stdout",
     "output_type": "stream",
     "text": [
      "Epoch: 88 | Training loss 6.826871607713794e-06 | Validation loss 5.571957574171178\n"
     ]
    },
    {
     "name": "stderr",
     "output_type": "stream",
     "text": [
      "Epoch 89: 100%|██████████████████████████████████████████████████████████| 66/66 [00:21<00:00,  3.06it/s, loss=2.97e-5]\n",
      "Epoch 89: 100%|█████████████████████████████████████████████████████████████| 17/17 [00:01<00:00,  9.22it/s, loss=3.97]\n"
     ]
    },
    {
     "name": "stdout",
     "output_type": "stream",
     "text": [
      "Epoch: 89 | Training loss 6.768905185102388e-06 | Validation loss 5.56635204483481\n"
     ]
    },
    {
     "name": "stderr",
     "output_type": "stream",
     "text": [
      "Epoch 90: 100%|██████████████████████████████████████████████████████████| 66/66 [00:21<00:00,  3.06it/s, loss=3.07e-6]\n",
      "Epoch 90: 100%|█████████████████████████████████████████████████████████████| 17/17 [00:01<00:00,  9.18it/s, loss=4.93]\n"
     ]
    },
    {
     "name": "stdout",
     "output_type": "stream",
     "text": [
      "Epoch: 90 | Training loss 6.194285554033051e-06 | Validation loss 5.610223167082843\n"
     ]
    },
    {
     "name": "stderr",
     "output_type": "stream",
     "text": [
      "Epoch 91: 100%|██████████████████████████████████████████████████████████| 66/66 [00:21<00:00,  3.06it/s, loss=6.91e-6]\n",
      "Epoch 91: 100%|█████████████████████████████████████████████████████████████| 17/17 [00:01<00:00,  9.19it/s, loss=5.45]\n"
     ]
    },
    {
     "name": "stdout",
     "output_type": "stream",
     "text": [
      "Epoch: 91 | Training loss 6.011419734684089e-06 | Validation loss 5.63179752405952\n"
     ]
    },
    {
     "name": "stderr",
     "output_type": "stream",
     "text": [
      "Epoch 92: 100%|██████████████████████████████████████████████████████████| 66/66 [00:21<00:00,  3.06it/s, loss=8.34e-7]\n",
      "Epoch 92: 100%|█████████████████████████████████████████████████████████████| 17/17 [00:01<00:00,  9.23it/s, loss=4.23]\n"
     ]
    },
    {
     "name": "stdout",
     "output_type": "stream",
     "text": [
      "Epoch: 92 | Training loss 5.712324853027784e-06 | Validation loss 5.60050685265485\n"
     ]
    },
    {
     "name": "stderr",
     "output_type": "stream",
     "text": [
      "Epoch 93: 100%|███████████████████████████████████████████████████████████| 66/66 [00:21<00:00,  3.06it/s, loss=4.2e-6]\n",
      "Epoch 93: 100%|█████████████████████████████████████████████████████████████| 17/17 [00:01<00:00,  9.19it/s, loss=5.16]\n"
     ]
    },
    {
     "name": "stdout",
     "output_type": "stream",
     "text": [
      "Epoch: 93 | Training loss 5.531354784951955e-06 | Validation loss 5.637547100291533\n"
     ]
    },
    {
     "name": "stderr",
     "output_type": "stream",
     "text": [
      "Epoch 94: 100%|██████████████████████████████████████████████████████████| 66/66 [00:21<00:00,  3.06it/s, loss=9.83e-7]\n",
      "Epoch 94: 100%|█████████████████████████████████████████████████████████████| 17/17 [00:01<00:00,  9.24it/s, loss=3.78]\n"
     ]
    },
    {
     "name": "stdout",
     "output_type": "stream",
     "text": [
      "Epoch: 94 | Training loss 5.289604468378622e-06 | Validation loss 5.595708117765539\n"
     ]
    },
    {
     "name": "stderr",
     "output_type": "stream",
     "text": [
      "Epoch 95: 100%|██████████████████████████████████████████████████████████| 66/66 [00:21<00:00,  3.06it/s, loss=8.73e-6]\n",
      "Epoch 95: 100%|█████████████████████████████████████████████████████████████| 17/17 [00:01<00:00,  9.20it/s, loss=4.37]\n"
     ]
    },
    {
     "name": "stdout",
     "output_type": "stream",
     "text": [
      "Epoch: 95 | Training loss 5.1776280508530554e-06 | Validation loss 5.624621643739588\n"
     ]
    },
    {
     "name": "stderr",
     "output_type": "stream",
     "text": [
      "Epoch 96: 100%|██████████████████████████████████████████████████████████| 66/66 [00:21<00:00,  3.06it/s, loss=9.57e-6]\n",
      "Epoch 96: 100%|█████████████████████████████████████████████████████████████| 17/17 [00:01<00:00,  9.21it/s, loss=5.32]\n"
     ]
    },
    {
     "name": "stdout",
     "output_type": "stream",
     "text": [
      "Epoch: 96 | Training loss 4.990875693651602e-06 | Validation loss 5.664120029000675\n"
     ]
    },
    {
     "name": "stderr",
     "output_type": "stream",
     "text": [
      "Epoch 97: 100%|██████████████████████████████████████████████████████████| 66/66 [00:21<00:00,  3.06it/s, loss=2.24e-6]\n",
      "Epoch 97: 100%|█████████████████████████████████████████████████████████████| 17/17 [00:01<00:00,  9.24it/s, loss=2.98]\n"
     ]
    },
    {
     "name": "stdout",
     "output_type": "stream",
     "text": [
      "Epoch: 97 | Training loss 4.721217837041794e-06 | Validation loss 5.5865632646224075\n"
     ]
    },
    {
     "name": "stderr",
     "output_type": "stream",
     "text": [
      "Epoch 98: 100%|██████████████████████████████████████████████████████████| 66/66 [00:21<00:00,  3.07it/s, loss=3.19e-6]\n",
      "Epoch 98: 100%|█████████████████████████████████████████████████████████████| 17/17 [00:01<00:00,  9.20it/s, loss=9.05]\n"
     ]
    },
    {
     "name": "stdout",
     "output_type": "stream",
     "text": [
      "Epoch: 98 | Training loss 4.561917760935158e-06 | Validation loss 5.808243751525879\n"
     ]
    },
    {
     "name": "stderr",
     "output_type": "stream",
     "text": [
      "Epoch 99: 100%|█████████████████████████████████████████████████████████████| 66/66 [00:21<00:00,  3.06it/s, loss=2e-6]\n",
      "Epoch 99: 100%|█████████████████████████████████████████████████████████████| 17/17 [00:01<00:00,  9.22it/s, loss=2.72]\n"
     ]
    },
    {
     "name": "stdout",
     "output_type": "stream",
     "text": [
      "Epoch: 99 | Training loss 4.3780536609092175e-06 | Validation loss 5.595068272422342\n"
     ]
    }
   ],
   "source": [
    "num_epochs, prev_loss = 100, torch.inf\n",
    "train_loss, val_loss = [], []\n",
    "\n",
    "\n",
    "for epoch in range(num_epochs):\n",
    "    loop = tqdm(train_loader)\n",
    "    loss_list, count = 0, 0\n",
    "    for batch in loop:\n",
    "        optim.zero_grad()\n",
    "        input_ids = batch['input_ids'].to(device)\n",
    "        attention_mask = batch['attention_mask'].to(device)\n",
    "        start_positions = batch['start_positions'].to(device)\n",
    "        end_positions = batch['end_positions'].to(device)\n",
    "        \n",
    "        outputs = model(input_ids, attention_mask=attention_mask, \n",
    "                        start_positions=start_positions,\n",
    "                        end_positions=end_positions)\n",
    "        \n",
    "        loss = outputs[0]\n",
    "        loss.backward()\n",
    "        optim.step()\n",
    "        \n",
    "        loss_list += loss.item()\n",
    "        count += 1\n",
    "        \n",
    "        loop.set_description(f\"Epoch {epoch}\")\n",
    "        loop.set_postfix(loss=loss.item())\n",
    "    \n",
    "    loss = loss_list/count\n",
    "    train_loss.append(loss)\n",
    "    model.eval()\n",
    "    @torch.no_grad()\n",
    "    def validation():\n",
    "        loop = tqdm(val_loader)\n",
    "        loss_list, count = 0, 0\n",
    "        for batch in loop:            \n",
    "            input_ids = batch['input_ids'].to(device)\n",
    "            attention_mask = batch['attention_mask'].to(device)\n",
    "            start_positions = batch['start_positions'].to(device)\n",
    "            end_positions = batch['end_positions'].to(device)\n",
    "\n",
    "            outputs = model(input_ids, attention_mask=attention_mask, \n",
    "                            start_positions=start_positions,\n",
    "                            end_positions=end_positions)\n",
    "            \n",
    "            loss = outputs[0]\n",
    "            loss_list += loss.item()\n",
    "            count += 1\n",
    "            \n",
    "            loop.set_description(f\"Epoch {epoch}\")\n",
    "            loop.set_postfix(loss=loss.item())\n",
    "\n",
    "        return loss_list / count\n",
    "    v_loss = validation()\n",
    "    val_loss.append(v_loss)    \n",
    "    prev_loss = save_model(\"RoBERTa\", epoch, prev_loss, v_loss, model, tokenizer, optim)\n",
    "    print(f\"Epoch: {epoch} | Training loss {loss} | Validation loss {v_loss}\")"
   ]
  },
  {
   "cell_type": "code",
   "execution_count": 14,
   "id": "b7d9e9a2",
   "metadata": {},
   "outputs": [],
   "source": [
    "df = pd.DataFrame({\n",
    "    \"epochs\": range(0, len(train_loss)),\n",
    "    \"train_loss\": train_loss,\n",
    "    \"val_loss\": val_loss\n",
    "})\n",
    "df.to_csv(\"losses_100.csv\", index=False)"
   ]
  },
  {
   "cell_type": "code",
   "execution_count": 15,
   "id": "c83cc5c4",
   "metadata": {},
   "outputs": [
    {
     "data": {
      "image/png": "[encoded data removed]",
      "text/plain": [
       "<Figure size 640x480 with 1 Axes>"
      ]
     },
     "metadata": {},
     "output_type": "display_data"
    }
   ],
   "source": [
    "import matplotlib.pyplot as plt\n",
    "plt.plot(df.train_loss)\n",
    "plt.plot(df.val_loss)\n",
    "plt.xlabel(f\"The loss plot\")\n",
    "plt.show()"
   ]
  },
  {
   "cell_type": "code",
   "execution_count": 17,
   "id": "e6597fe2",
   "metadata": {},
   "outputs": [],
   "source": [
    "train.to_csv(\"train.csv\", index=False)\n",
    "val.to_csv(\"val.csv\", index=False)"
   ]
  },
  {
   "cell_type": "code",
   "execution_count": null,
   "id": "24d96299",
   "metadata": {},
   "outputs": [],
   "source": []
  },
  {
   "cell_type": "code",
   "execution_count": null,
   "id": "62e41545",
   "metadata": {},
   "outputs": [],
   "source": []
  },
  {
   "cell_type": "code",
   "execution_count": null,
   "id": "de61bb52",
   "metadata": {},
   "outputs": [],
   "source": []
  },
  {
   "cell_type": "code",
   "execution_count": 16,
   "id": "9dea08eb",
   "metadata": {},
   "outputs": [],
   "source": [
    "# import torch\n",
    "# from transformers import BertTokenizer, BertForSequenceClassification\n",
    "# from torch.nn.functional import softmax\n",
    "\n",
    "# # Load pre-trained BERT model and tokenizer\n",
    "# model_name = 'bert-base-uncased'\n",
    "# tokenizer = BertTokenizer.from_pretrained(model_name)\n",
    "# model = BertForSequenceClassification.from_pretrained(model_name)\n",
    "\n",
    "# # Sample text for sentiment analysis\n",
    "# text = \"I hate using BERT for sentiment analysis!\"\n",
    "\n",
    "# # Tokenize input text and convert to tensor\n",
    "# tokens = tokenizer(text, return_tensors='pt')\n",
    "# input_ids = tokens['input_ids']\n",
    "# attention_mask = tokens['attention_mask']\n",
    "\n",
    "# # Make prediction\n",
    "# with torch.no_grad():\n",
    "#     output = model(input_ids, attention_mask=attention_mask)\n",
    "\n",
    "# # Get probabilities for each sentiment class\n",
    "# probs = softmax(output.logits, dim=1).squeeze().tolist()\n",
    "\n",
    "# # Map probabilities to sentiment labels\n",
    "# sentiment_labels = ['Negative', 'Neutral', 'Positive']\n",
    "# predicted_sentiment = sentiment_labels[probs.index(max(probs))]\n",
    "\n",
    "# print(f\"Predicted sentiment: {predicted_sentiment}\")"
   ]
  },
  {
   "cell_type": "code",
   "execution_count": null,
   "id": "b36d3041",
   "metadata": {},
   "outputs": [],
   "source": []
  }
 ],
 "metadata": {
  "kernelspec": {
   "display_name": "Python 3 (ipykernel)",
   "language": "python",
   "name": "python3"
  },
  "language_info": {
   "codemirror_mode": {
    "name": "ipython",
    "version": 3
   },
   "file_extension": ".py",
   "mimetype": "text/x-python",
   "name": "python",
   "nbconvert_exporter": "python",
   "pygments_lexer": "ipython3",
   "version": "3.11.4"
  }
 },
 "nbformat": 4,
 "nbformat_minor": 5
}
