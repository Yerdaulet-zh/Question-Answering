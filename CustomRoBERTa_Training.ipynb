{
 "cells": [
  {
   "cell_type": "code",
   "execution_count": 6,
   "id": "ca439f21",
   "metadata": {},
   "outputs": [],
   "source": [
    "import torch, os\n",
    "import pandas as pd\n",
    "import torch.nn as nn\n",
    "\n",
    "from transformers import AutoTokenizer\n",
    "from transformers import AutoModelForQuestionAnswering, TrainingArguments, Trainer\n",
    "from sklearn.model_selection import train_test_split\n",
    "from torch.utils.data import DataLoader\n",
    "from tqdm import tqdm\n",
    "\n",
    "\n",
    "device = 'cuda' if torch.cuda.is_available() else 'cpu'"
   ]
  },
  {
   "cell_type": "code",
   "execution_count": 7,
   "id": "77bf3ce6",
   "metadata": {},
   "outputs": [
    {
     "name": "stderr",
     "output_type": "stream",
     "text": [
      "Some weights of RobertaForQuestionAnswering were not initialized from the model checkpoint at models/RoBERT.pth and are newly initialized: ['qa_outputs.weight', 'qa_outputs.bias']\n",
      "You should probably TRAIN this model on a down-stream task to be able to use it for predictions and inference.\n"
     ]
    }
   ],
   "source": [
    "model = AutoModelForQuestionAnswering.from_pretrained(\"models/RoBERT.pth\")\n",
    "tokenizer = AutoTokenizer.from_pretrained(\"models/Tokenizer_RoBERT.pth/\")"
   ]
  },
  {
   "cell_type": "code",
   "execution_count": 8,
   "id": "b0bfffdc",
   "metadata": {},
   "outputs": [],
   "source": [
    "class RoBERTa(nn.Module):\n",
    "    def __init__(self, model):\n",
    "        super(RoBERTa, self).__init__()\n",
    "        self.RoBERTa = model.roberta\n",
    "        self.qa_outputs = nn.Linear(in_features=768, out_features=2, bias=True)\n",
    "        \n",
    "    def forward(self, input_ids, attention_mask=None, token_type_ids=None):\n",
    "        x = self.RoBERTa(input_ids, attention_mask=attention_mask, token_type_ids=token_type_ids)\n",
    "        x = self.qa_outputs(x.last_hidden_state)\n",
    "        \n",
    "        return {\n",
    "            'start_logits': x[:, :, 0],\n",
    "            'end_logits': x[:, :, 1]\n",
    "        }"
   ]
  },
  {
   "cell_type": "code",
   "execution_count": null,
   "id": "58118fbc",
   "metadata": {},
   "outputs": [],
   "source": []
  },
  {
   "cell_type": "code",
   "execution_count": 11,
   "id": "3597f4a9",
   "metadata": {},
   "outputs": [],
   "source": [
    "model = RoBERTa(model)"
   ]
  },
  {
   "cell_type": "code",
   "execution_count": 5,
   "id": "e8f64964",
   "metadata": {},
   "outputs": [],
   "source": [
    "df = pd.read_csv(\"yerdaulet_annot.csv\")\n",
    "\n",
    "train, val = train_test_split(df, test_size=0.2)\n",
    "\n",
    "train = train.reset_index(drop=True)\n",
    "val = val.reset_index(drop=True)"
   ]
  },
  {
   "cell_type": "code",
   "execution_count": 6,
   "id": "a191b35b",
   "metadata": {},
   "outputs": [],
   "source": [
    "train_encodings = tokenizer(list(train.context), list(train.question), max_length=512, truncation=True, padding='max_length', return_tensors='pt')\n",
    "\n",
    "val_encodings = tokenizer(list(val.context), list(val.question), max_length=512, truncation=True, padding='max_length', return_tensors='pt')"
   ]
  },
  {
   "cell_type": "code",
   "execution_count": 26,
   "id": "9e0a4421",
   "metadata": {},
   "outputs": [],
   "source": [
    "def add_token_positions(encodings, df):\n",
    "    start_positions = []\n",
    "    end_positions = []\n",
    "\n",
    "\n",
    "    for i in range(len(df['start_position'])):\n",
    "        target_answer = df.at[i, \"answer\"]\n",
    "        start = encodings.char_to_token(i, df['start_position'][i] + 0)\n",
    "        end = encodings.char_to_token(i, df['end_position'][i] + 0)\n",
    "\n",
    "        if end is None:\n",
    "            end = encodings.char_to_token(i, df['end_position'][i] + 1)\n",
    "        \n",
    "        answer = tokenizer.decode(encodings['input_ids'][i][start:end])\n",
    "        \n",
    "        if target_answer.strip() == answer.strip():\n",
    "            pass\n",
    "        else:\n",
    "            counter = 2\n",
    "            while end is None:\n",
    "                end = encodings.char_to_token(i, df['end_position'][i] + counter)\n",
    "                if counter == 50:\n",
    "                    break\n",
    "                    \n",
    "                counter += 1\n",
    "\n",
    "            counter = 1\n",
    "            while end is None:\n",
    "                end = encodings.char_to_token(i, df['end_position'][i] - counter)\n",
    "                counter += 1\n",
    "\n",
    "                \n",
    "        start_positions.append(start)\n",
    "        end_positions.append(end)\n",
    "    \n",
    "    encodings.update({\n",
    "        'start_positions': start_positions,\n",
    "        'end_positions': end_positions\n",
    "    })"
   ]
  },
  {
   "cell_type": "code",
   "execution_count": 8,
   "id": "6de0b46b",
   "metadata": {},
   "outputs": [],
   "source": [
    "add_token_positions(train_encodings, train)\n",
    "add_token_positions(val_encodings, val)"
   ]
  },
  {
   "cell_type": "code",
   "execution_count": 27,
   "id": "67e0dae3",
   "metadata": {},
   "outputs": [],
   "source": [
    "class SquadDataset(torch.utils.data.Dataset):\n",
    "    def __init__(self, encodings):\n",
    "        self.encodings = encodings\n",
    "        \n",
    "    def __len__(self, ):\n",
    "        return len(self.encodings.input_ids)\n",
    "    \n",
    "    def __getitem__(self, x):\n",
    "        return {key: torch.tensor(val[x]) for key, val in self.encodings.items()}"
   ]
  },
  {
   "cell_type": "code",
   "execution_count": 10,
   "id": "c2689aae",
   "metadata": {},
   "outputs": [
    {
     "name": "stderr",
     "output_type": "stream",
     "text": [
      "C:\\Users\\yerda\\AppData\\Local\\Temp\\ipykernel_5184\\2881824031.py:9: UserWarning: To copy construct from a tensor, it is recommended to use sourceTensor.clone().detach() or sourceTensor.clone().detach().requires_grad_(True), rather than torch.tensor(sourceTensor).\n",
      "  return {key: torch.tensor(val[x]) for key, val in self.encodings.items()}\n"
     ]
    }
   ],
   "source": [
    "vals = next(iter(SquadDataset(train_encodings)))"
   ]
  },
  {
   "cell_type": "code",
   "execution_count": 11,
   "id": "ab3a00a0",
   "metadata": {},
   "outputs": [],
   "source": [
    "vals['input_ids'];"
   ]
  },
  {
   "cell_type": "code",
   "execution_count": null,
   "id": "42a99058",
   "metadata": {},
   "outputs": [],
   "source": []
  },
  {
   "cell_type": "code",
   "execution_count": 12,
   "id": "e0a164a8",
   "metadata": {},
   "outputs": [],
   "source": [
    "train_dataset = SquadDataset(train_encodings)\n",
    "val_dataset = SquadDataset(val_encodings)\n",
    "\n",
    "train_loader = DataLoader(train_dataset, batch_size=10, shuffle=True)\n",
    "val_loader = DataLoader(val_dataset, batch_size=10, shuffle=True)"
   ]
  },
  {
   "cell_type": "code",
   "execution_count": 13,
   "id": "92cd5ca2",
   "metadata": {},
   "outputs": [],
   "source": [
    "def save_model(model_name, epoch, prev_loss, current_loss, model, tokenizer, optimizer):\n",
    "    if prev_loss > current_loss:\n",
    "        torch.save({\n",
    "            \"epoch\": epoch,\n",
    "            \"model\": model.state_dict(),\n",
    "            \"tokenizer\": \"best_RoBERT_tokenizer.pth\",\n",
    "            \"optimizer\": optimizer.state_dict(),\n",
    "            \"loss\": current_loss,\n",
    "        }, f\"models/best_{model_name}.pt\") # create models folder before! \n",
    "        print(\"The best model was saved!\")\n",
    "        prev_loss = current_loss\n",
    "#         model.save_pretrained(\"models/best_RoBERTa_model.pth\")\n",
    "#         tokenizer.save_pretrained(\"models/best_RoBERT_tokenizer.pth\")\n",
    "    \n",
    "    torch.save({\n",
    "            \"epoch\": epoch,\n",
    "            \"model\": model.state_dict(),\n",
    "            \"tokenizer\": \"last_RoBERT_tokenizer.pth\",\n",
    "            \"optimizer\": optimizer.state_dict(),\n",
    "            \"loss\": current_loss,\n",
    "        }, f\"models/last_{model_name}.pt\")\n",
    "#     model.save_pretrained(\"models/last_RoBERTa_model.pth\")\n",
    "#     tokenizer.save_pretrained(\"models/last_RoBERT_tokenizer.pth\")\n",
    "    return prev_loss\n",
    "\n",
    "\n",
    "os.makedirs(\"models\", exist_ok=True)"
   ]
  },
  {
   "cell_type": "code",
   "execution_count": 13,
   "id": "4e2c99f5",
   "metadata": {},
   "outputs": [],
   "source": [
    "class CrossNetropyLoss(nn.Module):\n",
    "    def __init__(self,):\n",
    "        super(CrossNetropyLoss, self).__init__()\n",
    "        self.entropy = nn.CrossEntropyLoss() \n",
    "    \n",
    "    def forward(self, x, start, end):\n",
    "        return self.entropy(x['start_logits'], start) + self.entropy(x['end_logits'], end)"
   ]
  },
  {
   "cell_type": "code",
   "execution_count": 15,
   "id": "0b8c8d5d",
   "metadata": {},
   "outputs": [],
   "source": [
    "model.train()\n",
    "model.to(device)\n",
    "optim = torch.optim.AdamW(model.parameters(), lr=5e-5)\n",
    "criterion = CrossNetropyLoss()"
   ]
  },
  {
   "cell_type": "code",
   "execution_count": 16,
   "id": "ac595ea5",
   "metadata": {},
   "outputs": [
    {
     "name": "stderr",
     "output_type": "stream",
     "text": [
      "  0%|                                                                                           | 0/66 [00:00<?, ?it/s]C:\\Users\\yerda\\AppData\\Local\\Temp\\ipykernel_5184\\2881824031.py:9: UserWarning: To copy construct from a tensor, it is recommended to use sourceTensor.clone().detach() or sourceTensor.clone().detach().requires_grad_(True), rather than torch.tensor(sourceTensor).\n",
      "  return {key: torch.tensor(val[x]) for key, val in self.encodings.items()}\n",
      "Epoch 0:   2%|▉                                                              | 1/66 [00:03<03:56,  3.63s/it, loss=12.1]C:\\Users\\yerda\\AppData\\Local\\Temp\\ipykernel_5184\\2881824031.py:9: UserWarning: To copy construct from a tensor, it is recommended to use sourceTensor.clone().detach() or sourceTensor.clone().detach().requires_grad_(True), rather than torch.tensor(sourceTensor).\n",
      "  return {key: torch.tensor(val[x]) for key, val in self.encodings.items()}\n",
      "Epoch 0: 100%|██████████████████████████████████████████████████████████████| 66/66 [00:25<00:00,  2.57it/s, loss=5.88]\n",
      "Epoch 0: 100%|██████████████████████████████████████████████████████████████| 17/17 [00:01<00:00,  9.43it/s, loss=5.69]\n"
     ]
    },
    {
     "name": "stdout",
     "output_type": "stream",
     "text": [
      "The best model was saved!\n",
      "Epoch: 0 | Training loss 6.9990170146479755 | Validation loss 6.225478901582606\n"
     ]
    },
    {
     "name": "stderr",
     "output_type": "stream",
     "text": [
      "Epoch 1: 100%|██████████████████████████████████████████████████████████████| 66/66 [00:21<00:00,  3.09it/s, loss=7.05]\n",
      "Epoch 1: 100%|██████████████████████████████████████████████████████████████| 17/17 [00:01<00:00,  9.38it/s, loss=5.02]\n"
     ]
    },
    {
     "name": "stdout",
     "output_type": "stream",
     "text": [
      "The best model was saved!\n",
      "Epoch: 1 | Training loss 5.2229585936575225 | Validation loss 6.205726286944221\n"
     ]
    },
    {
     "name": "stderr",
     "output_type": "stream",
     "text": [
      "Epoch 2: 100%|██████████████████████████████████████████████████████████████| 66/66 [00:21<00:00,  3.07it/s, loss=5.74]\n",
      "Epoch 2: 100%|██████████████████████████████████████████████████████████████| 17/17 [00:01<00:00,  9.38it/s, loss=5.42]\n"
     ]
    },
    {
     "name": "stdout",
     "output_type": "stream",
     "text": [
      "The best model was saved!\n",
      "Epoch: 2 | Training loss 3.774335832306833 | Validation loss 5.943679416880888\n"
     ]
    },
    {
     "name": "stderr",
     "output_type": "stream",
     "text": [
      "Epoch 3: 100%|██████████████████████████████████████████████████████████████| 66/66 [00:21<00:00,  3.08it/s, loss=2.28]\n",
      "Epoch 3: 100%|██████████████████████████████████████████████████████████████| 17/17 [00:01<00:00,  9.33it/s, loss=3.72]\n"
     ]
    },
    {
     "name": "stdout",
     "output_type": "stream",
     "text": [
      "The best model was saved!\n",
      "Epoch: 3 | Training loss 2.2562152960083703 | Validation loss 5.850477499120376\n"
     ]
    },
    {
     "name": "stderr",
     "output_type": "stream",
     "text": [
      "Epoch 4: 100%|█████████████████████████████████████████████████████████████| 66/66 [00:21<00:00,  3.08it/s, loss=0.754]\n",
      "Epoch 4: 100%|██████████████████████████████████████████████████████████████| 17/17 [00:01<00:00,  9.30it/s, loss=7.84]\n"
     ]
    },
    {
     "name": "stdout",
     "output_type": "stream",
     "text": [
      "Epoch: 4 | Training loss 1.107684411334269 | Validation loss 7.361988937153535\n"
     ]
    },
    {
     "name": "stderr",
     "output_type": "stream",
     "text": [
      "Epoch 5: 100%|█████████████████████████████████████████████████████████████| 66/66 [00:21<00:00,  3.09it/s, loss=0.178]\n",
      "Epoch 5: 100%|██████████████████████████████████████████████████████████████| 17/17 [00:01<00:00,  9.31it/s, loss=6.85]\n"
     ]
    },
    {
     "name": "stdout",
     "output_type": "stream",
     "text": [
      "Epoch: 5 | Training loss 0.548657444559715 | Validation loss 7.081536068635828\n"
     ]
    },
    {
     "name": "stderr",
     "output_type": "stream",
     "text": [
      "Epoch 6: 100%|█████████████████████████████████████████████████████████████| 66/66 [00:21<00:00,  3.08it/s, loss=0.104]\n",
      "Epoch 6: 100%|██████████████████████████████████████████████████████████████| 17/17 [00:01<00:00,  9.29it/s, loss=2.48]\n"
     ]
    },
    {
     "name": "stdout",
     "output_type": "stream",
     "text": [
      "Epoch: 6 | Training loss 0.28905898930900026 | Validation loss 8.127148403840906\n"
     ]
    },
    {
     "name": "stderr",
     "output_type": "stream",
     "text": [
      "Epoch 7: 100%|███████████████████████████████████████████████████████████| 66/66 [00:21<00:00,  3.08it/s, loss=0.00158]\n",
      "Epoch 7: 100%|███████████████████████████████████████████████████████████████| 17/17 [00:01<00:00,  9.26it/s, loss=8.7]\n"
     ]
    },
    {
     "name": "stdout",
     "output_type": "stream",
     "text": [
      "Epoch: 7 | Training loss 0.1583936783224062 | Validation loss 8.786571670981015\n"
     ]
    },
    {
     "name": "stderr",
     "output_type": "stream",
     "text": [
      "Epoch 8: 100%|███████████████████████████████████████████████████████████| 66/66 [00:21<00:00,  3.07it/s, loss=0.00362]\n",
      "Epoch 8: 100%|████████████████████████████████████████████████████████████████| 17/17 [00:01<00:00,  9.26it/s, loss=12]\n"
     ]
    },
    {
     "name": "stdout",
     "output_type": "stream",
     "text": [
      "Epoch: 8 | Training loss 0.07201816801997749 | Validation loss 8.879051713382497\n"
     ]
    },
    {
     "name": "stderr",
     "output_type": "stream",
     "text": [
      "Epoch 9: 100%|█████████████████████████████████████████████████████████████| 66/66 [00:21<00:00,  3.07it/s, loss=0.485]\n",
      "Epoch 9: 100%|██████████████████████████████████████████████████████████████| 17/17 [00:01<00:00,  9.27it/s, loss=10.1]\n"
     ]
    },
    {
     "name": "stdout",
     "output_type": "stream",
     "text": [
      "Epoch: 9 | Training loss 0.04573410923705634 | Validation loss 9.106478214263916\n"
     ]
    },
    {
     "name": "stderr",
     "output_type": "stream",
     "text": [
      "Epoch 10: 100%|█████████████████████████████████████████████████████████| 66/66 [00:21<00:00,  3.07it/s, loss=0.000941]\n",
      "Epoch 10: 100%|█████████████████████████████████████████████████████████████| 17/17 [00:01<00:00,  9.27it/s, loss=6.07]\n"
     ]
    },
    {
     "name": "stdout",
     "output_type": "stream",
     "text": [
      "Epoch: 10 | Training loss 0.020640184008339984 | Validation loss 9.39353864333209\n"
     ]
    },
    {
     "name": "stderr",
     "output_type": "stream",
     "text": [
      "Epoch 11: 100%|█████████████████████████████████████████████████████████| 66/66 [00:21<00:00,  3.07it/s, loss=0.000338]\n",
      "Epoch 11: 100%|███████████████████████████████████████████████████████████████| 17/17 [00:01<00:00,  9.25it/s, loss=12]\n"
     ]
    },
    {
     "name": "stdout",
     "output_type": "stream",
     "text": [
      "Epoch: 11 | Training loss 0.011255447119544966 | Validation loss 9.925981437458711\n"
     ]
    },
    {
     "name": "stderr",
     "output_type": "stream",
     "text": [
      "Epoch 12: 100%|██████████████████████████████████████████████████████████| 66/66 [00:21<00:00,  3.07it/s, loss=0.00687]\n",
      "Epoch 12: 100%|█████████████████████████████████████████████████████████████| 17/17 [00:01<00:00,  9.22it/s, loss=9.13]\n"
     ]
    },
    {
     "name": "stdout",
     "output_type": "stream",
     "text": [
      "Epoch: 12 | Training loss 0.010002378253513158 | Validation loss 9.967949306263643\n"
     ]
    },
    {
     "name": "stderr",
     "output_type": "stream",
     "text": [
      "Epoch 13: 100%|█████████████████████████████████████████████████████████| 66/66 [00:21<00:00,  3.07it/s, loss=0.000186]\n",
      "Epoch 13: 100%|█████████████████████████████████████████████████████████████| 17/17 [00:01<00:00,  9.28it/s, loss=6.99]\n"
     ]
    },
    {
     "name": "stdout",
     "output_type": "stream",
     "text": [
      "Epoch: 13 | Training loss 0.008652390168484117 | Validation loss 10.059065426097197\n"
     ]
    },
    {
     "name": "stderr",
     "output_type": "stream",
     "text": [
      "Epoch 14: 100%|█████████████████████████████████████████████████████████| 66/66 [00:21<00:00,  3.07it/s, loss=0.000263]\n",
      "Epoch 14: 100%|██████████████████████████████████████████████████████████████| 17/17 [00:01<00:00,  9.24it/s, loss=3.3]\n"
     ]
    },
    {
     "name": "stdout",
     "output_type": "stream",
     "text": [
      "Epoch: 14 | Training loss 0.008006159726364509 | Validation loss 10.091728785458733\n"
     ]
    },
    {
     "name": "stderr",
     "output_type": "stream",
     "text": [
      "Epoch 15: 100%|██████████████████████████████████████████████████████████| 66/66 [00:21<00:00,  3.08it/s, loss=0.00388]\n",
      "Epoch 15: 100%|█████████████████████████████████████████████████████████████| 17/17 [00:01<00:00,  9.26it/s, loss=8.21]\n"
     ]
    },
    {
     "name": "stdout",
     "output_type": "stream",
     "text": [
      "Epoch: 15 | Training loss 0.0069546399417132225 | Validation loss 10.362473824444939\n"
     ]
    },
    {
     "name": "stderr",
     "output_type": "stream",
     "text": [
      "Epoch 16: 100%|███████████████████████████████████████████████████████████| 66/66 [00:21<00:00,  3.07it/s, loss=0.0036]\n",
      "Epoch 16: 100%|█████████████████████████████████████████████████████████████| 17/17 [00:01<00:00,  9.24it/s, loss=6.27]\n"
     ]
    },
    {
     "name": "stdout",
     "output_type": "stream",
     "text": [
      "Epoch: 16 | Training loss 0.0065817357879661195 | Validation loss 10.434300450717702\n"
     ]
    },
    {
     "name": "stderr",
     "output_type": "stream",
     "text": [
      "Epoch 17: 100%|██████████████████████████████████████████████████████████| 66/66 [00:21<00:00,  3.07it/s, loss=0.00079]\n",
      "Epoch 17: 100%|█████████████████████████████████████████████████████████████| 17/17 [00:01<00:00,  9.23it/s, loss=13.8]\n"
     ]
    },
    {
     "name": "stdout",
     "output_type": "stream",
     "text": [
      "Epoch: 17 | Training loss 0.005831646604664539 | Validation loss 10.7761630450978\n"
     ]
    },
    {
     "name": "stderr",
     "output_type": "stream",
     "text": [
      "Epoch 18: 100%|██████████████████████████████████████████████████████████| 66/66 [00:21<00:00,  3.07it/s, loss=0.00177]\n",
      "Epoch 18: 100%|█████████████████████████████████████████████████████████████| 17/17 [00:01<00:00,  9.25it/s, loss=6.34]\n"
     ]
    },
    {
     "name": "stdout",
     "output_type": "stream",
     "text": [
      "Epoch: 18 | Training loss 0.005914476899444267 | Validation loss 10.616856518913718\n"
     ]
    },
    {
     "name": "stderr",
     "output_type": "stream",
     "text": [
      "Epoch 19: 100%|█████████████████████████████████████████████████████████| 66/66 [00:21<00:00,  3.08it/s, loss=0.000296]\n",
      "Epoch 19: 100%|█████████████████████████████████████████████████████████████| 17/17 [00:01<00:00,  9.26it/s, loss=14.8]\n"
     ]
    },
    {
     "name": "stdout",
     "output_type": "stream",
     "text": [
      "Epoch: 19 | Training loss 0.0059488259858247175 | Validation loss 11.024978581596823\n"
     ]
    },
    {
     "name": "stderr",
     "output_type": "stream",
     "text": [
      "Epoch 20: 100%|██████████████████████████████████████████████████████████| 66/66 [00:21<00:00,  3.08it/s, loss=0.00179]\n",
      "Epoch 20: 100%|█████████████████████████████████████████████████████████████| 17/17 [00:01<00:00,  9.27it/s, loss=7.23]\n"
     ]
    },
    {
     "name": "stdout",
     "output_type": "stream",
     "text": [
      "Epoch: 20 | Training loss 0.005035803214978483 | Validation loss 10.796241535859949\n"
     ]
    },
    {
     "name": "stderr",
     "output_type": "stream",
     "text": [
      "Epoch 21: 100%|██████████████████████████████████████████████████████████| 66/66 [00:21<00:00,  3.08it/s, loss=7.19e-5]\n",
      "Epoch 21: 100%|█████████████████████████████████████████████████████████████| 17/17 [00:01<00:00,  9.22it/s, loss=11.6]\n"
     ]
    },
    {
     "name": "stdout",
     "output_type": "stream",
     "text": [
      "Epoch: 21 | Training loss 0.005245745701606872 | Validation loss 11.041247480055866\n"
     ]
    },
    {
     "name": "stderr",
     "output_type": "stream",
     "text": [
      "Epoch 22: 100%|█████████████████████████████████████████████████████████| 66/66 [00:21<00:00,  3.07it/s, loss=0.000351]\n",
      "Epoch 22: 100%|█████████████████████████████████████████████████████████████| 17/17 [00:01<00:00,  9.23it/s, loss=11.9]\n"
     ]
    },
    {
     "name": "stdout",
     "output_type": "stream",
     "text": [
      "Epoch: 22 | Training loss 0.005545971608653693 | Validation loss 11.134354731615852\n"
     ]
    },
    {
     "name": "stderr",
     "output_type": "stream",
     "text": [
      "Epoch 23: 100%|█████████████████████████████████████████████████████████| 66/66 [00:21<00:00,  3.07it/s, loss=0.000522]\n",
      "Epoch 23: 100%|███████████████████████████████████████████████████████████████| 17/17 [00:01<00:00,  9.24it/s, loss=22]\n"
     ]
    },
    {
     "name": "stdout",
     "output_type": "stream",
     "text": [
      "Epoch: 23 | Training loss 0.004926334137218708 | Validation loss 11.574835328494801\n"
     ]
    },
    {
     "name": "stderr",
     "output_type": "stream",
     "text": [
      "Epoch 24: 100%|█████████████████████████████████████████████████████████| 66/66 [00:21<00:00,  3.07it/s, loss=0.000167]\n",
      "Epoch 24: 100%|██████████████████████████████████████████████████████████████| 17/17 [00:01<00:00,  9.28it/s, loss=3.5]\n"
     ]
    },
    {
     "name": "stdout",
     "output_type": "stream",
     "text": [
      "Epoch: 24 | Training loss 0.005354833198494321 | Validation loss 11.022837302264046\n"
     ]
    },
    {
     "name": "stderr",
     "output_type": "stream",
     "text": [
      "Epoch 25: 100%|██████████████████████████████████████████████████████████| 66/66 [00:21<00:00,  3.07it/s, loss=0.00019]\n",
      "Epoch 25: 100%|███████████████████████████████████████████████████████████████| 17/17 [00:01<00:00,  9.23it/s, loss=16]\n"
     ]
    },
    {
     "name": "stdout",
     "output_type": "stream",
     "text": [
      "Epoch: 25 | Training loss 0.004853463424793022 | Validation loss 11.46508435642018\n"
     ]
    },
    {
     "name": "stderr",
     "output_type": "stream",
     "text": [
      "Epoch 26: 100%|█████████████████████████████████████████████████████████| 66/66 [00:21<00:00,  3.05it/s, loss=0.000196]\n",
      "Epoch 26: 100%|█████████████████████████████████████████████████████████████| 17/17 [00:01<00:00,  9.28it/s, loss=12.4]\n"
     ]
    },
    {
     "name": "stdout",
     "output_type": "stream",
     "text": [
      "Epoch: 26 | Training loss 0.005152115577815989 | Validation loss 11.441357808954576\n"
     ]
    },
    {
     "name": "stderr",
     "output_type": "stream",
     "text": [
      "Epoch 27: 100%|██████████████████████████████████████████████████████████| 66/66 [00:21<00:00,  3.07it/s, loss=1.84e-5]\n",
      "Epoch 27: 100%|█████████████████████████████████████████████████████████████| 17/17 [00:01<00:00,  9.23it/s, loss=7.41]\n"
     ]
    },
    {
     "name": "stdout",
     "output_type": "stream",
     "text": [
      "Epoch: 27 | Training loss 0.005078029235874331 | Validation loss 11.282383189481848\n"
     ]
    },
    {
     "name": "stderr",
     "output_type": "stream",
     "text": [
      "Epoch 28: 100%|█████████████████████████████████████████████████████████| 66/66 [00:21<00:00,  3.07it/s, loss=0.000354]\n",
      "Epoch 28: 100%|█████████████████████████████████████████████████████████████| 17/17 [00:01<00:00,  9.22it/s, loss=8.85]\n"
     ]
    },
    {
     "name": "stdout",
     "output_type": "stream",
     "text": [
      "Epoch: 28 | Training loss 0.004939987938004461 | Validation loss 11.40396499633789\n"
     ]
    },
    {
     "name": "stderr",
     "output_type": "stream",
     "text": [
      "Epoch 29: 100%|██████████████████████████████████████████████████████████| 66/66 [00:21<00:00,  3.07it/s, loss=6.13e-5]\n",
      "Epoch 29: 100%|█████████████████████████████████████████████████████████████| 17/17 [00:01<00:00,  9.28it/s, loss=19.6]\n"
     ]
    },
    {
     "name": "stdout",
     "output_type": "stream",
     "text": [
      "Epoch: 29 | Training loss 0.0050405209975989155 | Validation loss 11.8519707848044\n"
     ]
    },
    {
     "name": "stderr",
     "output_type": "stream",
     "text": [
      "Epoch 30: 100%|██████████████████████████████████████████████████████████| 66/66 [00:21<00:00,  3.07it/s, loss=0.00014]\n",
      "Epoch 30: 100%|█████████████████████████████████████████████████████████████| 17/17 [00:01<00:00,  9.24it/s, loss=8.87]\n"
     ]
    },
    {
     "name": "stdout",
     "output_type": "stream",
     "text": [
      "Epoch: 30 | Training loss 0.004856639630595579 | Validation loss 11.507464464973001\n"
     ]
    },
    {
     "name": "stderr",
     "output_type": "stream",
     "text": [
      "Epoch 31: 100%|█████████████████████████████████████████████████████████| 66/66 [00:21<00:00,  3.07it/s, loss=0.000102]\n",
      "Epoch 31: 100%|█████████████████████████████████████████████████████████████| 17/17 [00:01<00:00,  9.22it/s, loss=8.66]\n"
     ]
    },
    {
     "name": "stdout",
     "output_type": "stream",
     "text": [
      "Epoch: 31 | Training loss 0.004830443548902015 | Validation loss 11.558952023001279\n"
     ]
    },
    {
     "name": "stderr",
     "output_type": "stream",
     "text": [
      "Epoch 32: 100%|██████████████████████████████████████████████████████████| 66/66 [00:21<00:00,  3.07it/s, loss=9.73e-5]\n",
      "Epoch 32: 100%|█████████████████████████████████████████████████████████████| 17/17 [00:01<00:00,  9.28it/s, loss=11.2]\n"
     ]
    },
    {
     "name": "stdout",
     "output_type": "stream",
     "text": [
      "Epoch: 32 | Training loss 0.004829858434194731 | Validation loss 11.689806825974408\n"
     ]
    },
    {
     "name": "stderr",
     "output_type": "stream",
     "text": [
      "Epoch 33: 100%|█████████████████████████████████████████████████████████| 66/66 [00:21<00:00,  3.07it/s, loss=0.000767]\n",
      "Epoch 33: 100%|█████████████████████████████████████████████████████████████| 17/17 [00:01<00:00,  9.23it/s, loss=11.3]\n"
     ]
    },
    {
     "name": "stdout",
     "output_type": "stream",
     "text": [
      "Epoch: 33 | Training loss 0.00465509612199226 | Validation loss 11.72701504651238\n"
     ]
    },
    {
     "name": "stderr",
     "output_type": "stream",
     "text": [
      "Epoch 34: 100%|██████████████████████████████████████████████████████████| 66/66 [00:21<00:00,  3.08it/s, loss=1.73e-5]\n",
      "Epoch 34: 100%|█████████████████████████████████████████████████████████████| 17/17 [00:01<00:00,  9.27it/s, loss=10.6]\n"
     ]
    },
    {
     "name": "stdout",
     "output_type": "stream",
     "text": [
      "Epoch: 34 | Training loss 0.004697279499602949 | Validation loss 11.787926701938405\n"
     ]
    },
    {
     "name": "stderr",
     "output_type": "stream",
     "text": [
      "Epoch 35: 100%|██████████████████████████████████████████████████████████| 66/66 [00:21<00:00,  3.08it/s, loss=2.37e-5]\n",
      "Epoch 35: 100%|█████████████████████████████████████████████████████████████| 17/17 [00:01<00:00,  9.31it/s, loss=12.2]\n"
     ]
    },
    {
     "name": "stdout",
     "output_type": "stream",
     "text": [
      "Epoch: 35 | Training loss 0.004669326671498284 | Validation loss 11.858432040495032\n"
     ]
    },
    {
     "name": "stderr",
     "output_type": "stream",
     "text": [
      "Epoch 36: 100%|█████████████████████████████████████████████████████████| 66/66 [00:21<00:00,  3.07it/s, loss=0.000104]\n",
      "Epoch 36: 100%|██████████████████████████████████████████████████████████████| 17/17 [00:01<00:00,  9.23it/s, loss=8.7]\n"
     ]
    },
    {
     "name": "stdout",
     "output_type": "stream",
     "text": [
      "Epoch: 36 | Training loss 0.0045485836393102845 | Validation loss 11.772377182455624\n"
     ]
    },
    {
     "name": "stderr",
     "output_type": "stream",
     "text": [
      "Epoch 37: 100%|█████████████████████████████████████████████████████████| 66/66 [00:21<00:00,  3.07it/s, loss=0.000231]\n",
      "Epoch 37: 100%|█████████████████████████████████████████████████████████████| 17/17 [00:01<00:00,  9.28it/s, loss=10.5]\n"
     ]
    },
    {
     "name": "stdout",
     "output_type": "stream",
     "text": [
      "Epoch: 37 | Training loss 0.004336501345085598 | Validation loss 11.845905500299791\n"
     ]
    },
    {
     "name": "stderr",
     "output_type": "stream",
     "text": [
      "Epoch 38: 100%|█████████████████████████████████████████████████████████| 66/66 [00:21<00:00,  3.07it/s, loss=0.000112]\n",
      "Epoch 38: 100%|█████████████████████████████████████████████████████████████| 17/17 [00:01<00:00,  9.24it/s, loss=7.42]\n"
     ]
    },
    {
     "name": "stdout",
     "output_type": "stream",
     "text": [
      "Epoch: 38 | Training loss 0.004432621481045675 | Validation loss 11.776740999782787\n"
     ]
    },
    {
     "name": "stderr",
     "output_type": "stream",
     "text": [
      "Epoch 39: 100%|██████████████████████████████████████████████████████████| 66/66 [00:21<00:00,  3.07it/s, loss=9.33e-5]\n",
      "Epoch 39: 100%|███████████████████████████████████████████████████████████████| 17/17 [00:01<00:00,  9.25it/s, loss=11]\n"
     ]
    },
    {
     "name": "stdout",
     "output_type": "stream",
     "text": [
      "Epoch: 39 | Training loss 0.004449552591254222 | Validation loss 11.92751682505888\n"
     ]
    },
    {
     "name": "stderr",
     "output_type": "stream",
     "text": [
      "Epoch 40: 100%|██████████████████████████████████████████████████████████| 66/66 [00:21<00:00,  3.07it/s, loss=0.00102]\n",
      "Epoch 40: 100%|███████████████████████████████████████████████████████████████| 17/17 [00:01<00:00,  9.27it/s, loss=15]\n"
     ]
    },
    {
     "name": "stdout",
     "output_type": "stream",
     "text": [
      "Epoch: 40 | Training loss 0.0043204618039343395 | Validation loss 12.03375415241017\n"
     ]
    },
    {
     "name": "stderr",
     "output_type": "stream",
     "text": [
      "Epoch 41: 100%|██████████████████████████████████████████████████████████| 66/66 [00:21<00:00,  3.07it/s, loss=3.37e-5]\n",
      "Epoch 41: 100%|█████████████████████████████████████████████████████████████| 17/17 [00:01<00:00,  9.23it/s, loss=13.6]\n"
     ]
    },
    {
     "name": "stdout",
     "output_type": "stream",
     "text": [
      "Epoch: 41 | Training loss 0.0037879605116827543 | Validation loss 11.942052111906165\n"
     ]
    },
    {
     "name": "stderr",
     "output_type": "stream",
     "text": [
      "Epoch 42: 100%|██████████████████████████████████████████████████████████| 66/66 [00:21<00:00,  3.07it/s, loss=9.08e-5]\n",
      "Epoch 42: 100%|█████████████████████████████████████████████████████████████| 17/17 [00:01<00:00,  9.23it/s, loss=16.1]\n"
     ]
    },
    {
     "name": "stdout",
     "output_type": "stream",
     "text": [
      "Epoch: 42 | Training loss 0.0031598606310305486 | Validation loss 11.856853036319508\n"
     ]
    },
    {
     "name": "stderr",
     "output_type": "stream",
     "text": [
      "Epoch 43: 100%|█████████████████████████████████████████████████████████████| 66/66 [00:21<00:00,  3.07it/s, loss=1.03]\n",
      "Epoch 43: 100%|█████████████████████████████████████████████████████████████| 17/17 [00:01<00:00,  9.21it/s, loss=10.7]\n"
     ]
    },
    {
     "name": "stdout",
     "output_type": "stream",
     "text": [
      "Epoch: 43 | Training loss 0.08166046299888738 | Validation loss 9.107399575850543\n"
     ]
    },
    {
     "name": "stderr",
     "output_type": "stream",
     "text": [
      "Epoch 44: 100%|█████████████████████████████████████████████████████████████| 66/66 [00:21<00:00,  3.07it/s, loss=2.03]\n",
      "Epoch 44: 100%|█████████████████████████████████████████████████████████████| 17/17 [00:01<00:00,  9.22it/s, loss=8.75]\n"
     ]
    },
    {
     "name": "stdout",
     "output_type": "stream",
     "text": [
      "Epoch: 44 | Training loss 1.7214132304670233 | Validation loss 6.927525464226218\n"
     ]
    },
    {
     "name": "stderr",
     "output_type": "stream",
     "text": [
      "Epoch 45: 100%|███████████████████████████████████████████████████████████| 66/66 [00:21<00:00,  3.07it/s, loss=0.0626]\n",
      "Epoch 45: 100%|█████████████████████████████████████████████████████████████| 17/17 [00:01<00:00,  9.22it/s, loss=7.97]\n"
     ]
    },
    {
     "name": "stdout",
     "output_type": "stream",
     "text": [
      "Epoch: 45 | Training loss 1.367310297872984 | Validation loss 6.997592785779168\n"
     ]
    },
    {
     "name": "stderr",
     "output_type": "stream",
     "text": [
      "Epoch 46: 100%|█████████████████████████████████████████████████████████████| 66/66 [00:21<00:00,  3.07it/s, loss=1.71]\n",
      "Epoch 46: 100%|█████████████████████████████████████████████████████████████| 17/17 [00:01<00:00,  9.28it/s, loss=7.74]\n"
     ]
    },
    {
     "name": "stdout",
     "output_type": "stream",
     "text": [
      "Epoch: 46 | Training loss 0.45542237546407816 | Validation loss 7.101016409256879\n"
     ]
    },
    {
     "name": "stderr",
     "output_type": "stream",
     "text": [
      "Epoch 47: 100%|███████████████████████████████████████████████████████████| 66/66 [00:21<00:00,  3.07it/s, loss=0.0106]\n",
      "Epoch 47: 100%|█████████████████████████████████████████████████████████████| 17/17 [00:01<00:00,  9.22it/s, loss=7.45]\n"
     ]
    },
    {
     "name": "stdout",
     "output_type": "stream",
     "text": [
      "Epoch: 47 | Training loss 0.151568238425887 | Validation loss 7.62095692578484\n"
     ]
    },
    {
     "name": "stderr",
     "output_type": "stream",
     "text": [
      "Epoch 48: 100%|██████████████████████████████████████████████████████████| 66/66 [00:21<00:00,  3.07it/s, loss=0.00292]\n",
      "Epoch 48: 100%|█████████████████████████████████████████████████████████████| 17/17 [00:01<00:00,  9.24it/s, loss=12.8]\n"
     ]
    },
    {
     "name": "stdout",
     "output_type": "stream",
     "text": [
      "Epoch: 48 | Training loss 0.04748890559351297 | Validation loss 8.781107089098763\n"
     ]
    },
    {
     "name": "stderr",
     "output_type": "stream",
     "text": [
      "Epoch 49: 100%|██████████████████████████████████████████████████████████| 66/66 [00:21<00:00,  3.07it/s, loss=0.00177]\n",
      "Epoch 49: 100%|█████████████████████████████████████████████████████████████| 17/17 [00:01<00:00,  9.28it/s, loss=8.11]\n"
     ]
    },
    {
     "name": "stdout",
     "output_type": "stream",
     "text": [
      "Epoch: 49 | Training loss 0.03659101634173456 | Validation loss 8.798225122339586\n"
     ]
    },
    {
     "name": "stderr",
     "output_type": "stream",
     "text": [
      "Epoch 50: 100%|██████████████████████████████████████████████████████████| 66/66 [00:21<00:00,  3.07it/s, loss=0.00167]\n",
      "Epoch 50: 100%|█████████████████████████████████████████████████████████████| 17/17 [00:01<00:00,  9.23it/s, loss=8.21]\n"
     ]
    },
    {
     "name": "stdout",
     "output_type": "stream",
     "text": [
      "Epoch: 50 | Training loss 0.012437288410376024 | Validation loss 9.275815963745117\n"
     ]
    },
    {
     "name": "stderr",
     "output_type": "stream",
     "text": [
      "Epoch 51: 100%|██████████████████████████████████████████████████████████| 66/66 [00:21<00:00,  3.07it/s, loss=0.00333]\n",
      "Epoch 51: 100%|█████████████████████████████████████████████████████████████| 17/17 [00:01<00:00,  9.23it/s, loss=11.4]\n"
     ]
    },
    {
     "name": "stdout",
     "output_type": "stream",
     "text": [
      "Epoch: 51 | Training loss 0.014611302029648372 | Validation loss 9.889061114367317\n"
     ]
    },
    {
     "name": "stderr",
     "output_type": "stream",
     "text": [
      "Epoch 52: 100%|███████████████████████████████████████████████████████████| 66/66 [00:21<00:00,  3.07it/s, loss=0.0047]\n",
      "Epoch 52: 100%|█████████████████████████████████████████████████████████████| 17/17 [00:01<00:00,  9.24it/s, loss=5.33]\n"
     ]
    },
    {
     "name": "stdout",
     "output_type": "stream",
     "text": [
      "Epoch: 52 | Training loss 0.010549409312785208 | Validation loss 9.830603683696074\n"
     ]
    },
    {
     "name": "stderr",
     "output_type": "stream",
     "text": [
      "Epoch 53: 100%|██████████████████████████████████████████████████████████| 66/66 [00:21<00:00,  3.07it/s, loss=0.00261]\n",
      "Epoch 53: 100%|█████████████████████████████████████████████████████████████| 17/17 [00:01<00:00,  9.23it/s, loss=18.3]\n"
     ]
    },
    {
     "name": "stdout",
     "output_type": "stream",
     "text": [
      "Epoch: 53 | Training loss 0.0062812411175180004 | Validation loss 10.350088399999281\n"
     ]
    },
    {
     "name": "stderr",
     "output_type": "stream",
     "text": [
      "Epoch 54: 100%|█████████████████████████████████████████████████████████| 66/66 [00:21<00:00,  3.07it/s, loss=0.000462]\n",
      "Epoch 54: 100%|█████████████████████████████████████████████████████████████| 17/17 [00:01<00:00,  9.22it/s, loss=19.9]\n"
     ]
    },
    {
     "name": "stdout",
     "output_type": "stream",
     "text": [
      "Epoch: 54 | Training loss 0.002883376384764261 | Validation loss 10.604418389937457\n"
     ]
    },
    {
     "name": "stderr",
     "output_type": "stream",
     "text": [
      "Epoch 55: 100%|█████████████████████████████████████████████████████████| 66/66 [00:21<00:00,  3.07it/s, loss=0.000592]\n",
      "Epoch 55: 100%|█████████████████████████████████████████████████████████████| 17/17 [00:01<00:00,  9.23it/s, loss=8.73]\n"
     ]
    },
    {
     "name": "stdout",
     "output_type": "stream",
     "text": [
      "Epoch: 55 | Training loss 0.0029809761675124087 | Validation loss 10.325617649975944\n"
     ]
    },
    {
     "name": "stderr",
     "output_type": "stream",
     "text": [
      "Epoch 56: 100%|█████████████████████████████████████████████████████████| 66/66 [00:21<00:00,  3.07it/s, loss=0.000259]\n",
      "Epoch 56: 100%|█████████████████████████████████████████████████████████████| 17/17 [00:01<00:00,  9.25it/s, loss=3.94]\n"
     ]
    },
    {
     "name": "stdout",
     "output_type": "stream",
     "text": [
      "Epoch: 56 | Training loss 0.0021371804362967273 | Validation loss 10.286752083722282\n"
     ]
    },
    {
     "name": "stderr",
     "output_type": "stream",
     "text": [
      "Epoch 57: 100%|█████████████████████████████████████████████████████████| 66/66 [00:21<00:00,  3.06it/s, loss=0.000226]\n",
      "Epoch 57: 100%|█████████████████████████████████████████████████████████████| 17/17 [00:01<00:00,  9.25it/s, loss=4.06]\n"
     ]
    },
    {
     "name": "stdout",
     "output_type": "stream",
     "text": [
      "Epoch: 57 | Training loss 0.0015623596369881523 | Validation loss 10.379898828618666\n"
     ]
    },
    {
     "name": "stderr",
     "output_type": "stream",
     "text": [
      "Epoch 58: 100%|██████████████████████████████████████████████████████████| 66/66 [00:21<00:00,  3.06it/s, loss=9.89e-5]\n",
      "Epoch 58: 100%|█████████████████████████████████████████████████████████████| 17/17 [00:01<00:00,  9.23it/s, loss=5.43]\n"
     ]
    },
    {
     "name": "stdout",
     "output_type": "stream",
     "text": [
      "Epoch: 58 | Training loss 0.0011047800788109078 | Validation loss 10.51619846680585\n"
     ]
    },
    {
     "name": "stderr",
     "output_type": "stream",
     "text": [
      "Epoch 59: 100%|█████████████████████████████████████████████████████████| 66/66 [00:21<00:00,  3.07it/s, loss=0.000364]\n",
      "Epoch 59: 100%|█████████████████████████████████████████████████████████████| 17/17 [00:01<00:00,  9.23it/s, loss=10.7]\n"
     ]
    },
    {
     "name": "stdout",
     "output_type": "stream",
     "text": [
      "Epoch: 59 | Training loss 0.0008431422576188307 | Validation loss 10.790340255288516\n"
     ]
    },
    {
     "name": "stderr",
     "output_type": "stream",
     "text": [
      "Epoch 60: 100%|██████████████████████████████████████████████████████████| 66/66 [00:21<00:00,  3.07it/s, loss=0.00161]\n",
      "Epoch 60: 100%|█████████████████████████████████████████████████████████████| 17/17 [00:01<00:00,  9.24it/s, loss=5.63]\n"
     ]
    },
    {
     "name": "stdout",
     "output_type": "stream",
     "text": [
      "Epoch: 60 | Training loss 0.0007054188581329954 | Validation loss 10.692604177138385\n"
     ]
    },
    {
     "name": "stderr",
     "output_type": "stream",
     "text": [
      "Epoch 61: 100%|█████████████████████████████████████████████████████████| 66/66 [00:21<00:00,  3.07it/s, loss=0.000105]\n",
      "Epoch 61: 100%|█████████████████████████████████████████████████████████████| 17/17 [00:01<00:00,  9.23it/s, loss=10.6]\n"
     ]
    },
    {
     "name": "stdout",
     "output_type": "stream",
     "text": [
      "Epoch: 61 | Training loss 0.0005538967646619616 | Validation loss 10.956856391009163\n"
     ]
    },
    {
     "name": "stderr",
     "output_type": "stream",
     "text": [
      "Epoch 62: 100%|█████████████████████████████████████████████████████████| 66/66 [00:21<00:00,  3.07it/s, loss=0.000222]\n",
      "Epoch 62: 100%|█████████████████████████████████████████████████████████████| 17/17 [00:01<00:00,  9.23it/s, loss=18.4]\n"
     ]
    },
    {
     "name": "stdout",
     "output_type": "stream",
     "text": [
      "Epoch: 62 | Training loss 0.0004838036685682847 | Validation loss 11.302375512964586\n"
     ]
    },
    {
     "name": "stderr",
     "output_type": "stream",
     "text": [
      "Epoch 63: 100%|██████████████████████████████████████████████████████████| 66/66 [00:21<00:00,  3.07it/s, loss=0.00016]\n",
      "Epoch 63: 100%|█████████████████████████████████████████████████████████████| 17/17 [00:01<00:00,  9.22it/s, loss=10.5]\n"
     ]
    },
    {
     "name": "stdout",
     "output_type": "stream",
     "text": [
      "Epoch: 63 | Training loss 0.00042583412880159096 | Validation loss 11.101903242223402\n"
     ]
    },
    {
     "name": "stderr",
     "output_type": "stream",
     "text": [
      "Epoch 64: 100%|███████████████████████████████████████████████████████████| 66/66 [00:21<00:00,  3.07it/s, loss=7.7e-5]\n",
      "Epoch 64: 100%|██████████████████████████████████████████████████████████████| 17/17 [00:01<00:00,  9.20it/s, loss=8.8]\n"
     ]
    },
    {
     "name": "stdout",
     "output_type": "stream",
     "text": [
      "Epoch: 64 | Training loss 0.0003794266414126579 | Validation loss 11.10919049206902\n"
     ]
    },
    {
     "name": "stderr",
     "output_type": "stream",
     "text": [
      "Epoch 65: 100%|██████████████████████████████████████████████████████████| 66/66 [00:21<00:00,  3.07it/s, loss=2.75e-5]\n",
      "Epoch 65: 100%|█████████████████████████████████████████████████████████████| 17/17 [00:01<00:00,  9.22it/s, loss=5.04]\n"
     ]
    },
    {
     "name": "stdout",
     "output_type": "stream",
     "text": [
      "Epoch: 65 | Training loss 0.0003418809981005986 | Validation loss 11.03952029172112\n"
     ]
    },
    {
     "name": "stderr",
     "output_type": "stream",
     "text": [
      "Epoch 66: 100%|██████████████████████████████████████████████████████████| 66/66 [00:21<00:00,  3.07it/s, loss=5.06e-5]\n",
      "Epoch 66: 100%|█████████████████████████████████████████████████████████████| 17/17 [00:01<00:00,  9.23it/s, loss=6.12]\n"
     ]
    },
    {
     "name": "stdout",
     "output_type": "stream",
     "text": [
      "Epoch: 66 | Training loss 0.0003128611400218991 | Validation loss 11.13187862845028\n"
     ]
    },
    {
     "name": "stderr",
     "output_type": "stream",
     "text": [
      "Epoch 67: 100%|█████████████████████████████████████████████████████████| 66/66 [00:21<00:00,  3.07it/s, loss=0.000108]\n",
      "Epoch 67: 100%|█████████████████████████████████████████████████████████████| 17/17 [00:01<00:00,  9.22it/s, loss=14.5]\n"
     ]
    },
    {
     "name": "stdout",
     "output_type": "stream",
     "text": [
      "Epoch: 67 | Training loss 0.00028862723626265176 | Validation loss 11.488425647511201\n"
     ]
    },
    {
     "name": "stderr",
     "output_type": "stream",
     "text": [
      "Epoch 68: 100%|██████████████████████████████████████████████████████████| 66/66 [00:21<00:00,  3.07it/s, loss=9.41e-5]\n",
      "Epoch 68: 100%|█████████████████████████████████████████████████████████████| 17/17 [00:01<00:00,  9.22it/s, loss=9.77]\n"
     ]
    },
    {
     "name": "stdout",
     "output_type": "stream",
     "text": [
      "Epoch: 68 | Training loss 0.00026640837864816245 | Validation loss 11.3736572265625\n"
     ]
    },
    {
     "name": "stderr",
     "output_type": "stream",
     "text": [
      "Epoch 69: 100%|█████████████████████████████████████████████████████████| 66/66 [00:21<00:00,  3.07it/s, loss=0.000166]\n",
      "Epoch 69: 100%|█████████████████████████████████████████████████████████████| 17/17 [00:01<00:00,  9.23it/s, loss=8.06]\n"
     ]
    },
    {
     "name": "stdout",
     "output_type": "stream",
     "text": [
      "Epoch: 69 | Training loss 0.0002479588704525006 | Validation loss 11.36456304437974\n"
     ]
    },
    {
     "name": "stderr",
     "output_type": "stream",
     "text": [
      "Epoch 70: 100%|██████████████████████████████████████████████████████████| 66/66 [00:21<00:00,  3.07it/s, loss=3.46e-5]\n",
      "Epoch 70: 100%|█████████████████████████████████████████████████████████████| 17/17 [00:01<00:00,  9.22it/s, loss=14.3]\n"
     ]
    },
    {
     "name": "stdout",
     "output_type": "stream",
     "text": [
      "Epoch: 70 | Training loss 0.00022865819513147775 | Validation loss 11.635790993185605\n"
     ]
    },
    {
     "name": "stderr",
     "output_type": "stream",
     "text": [
      "Epoch 71: 100%|█████████████████████████████████████████████████████████| 66/66 [00:21<00:00,  3.07it/s, loss=0.000215]\n",
      "Epoch 71: 100%|█████████████████████████████████████████████████████████████| 17/17 [00:01<00:00,  9.23it/s, loss=7.25]\n"
     ]
    },
    {
     "name": "stdout",
     "output_type": "stream",
     "text": [
      "Epoch: 71 | Training loss 0.0002150944552395782 | Validation loss 11.437211541568532\n"
     ]
    },
    {
     "name": "stderr",
     "output_type": "stream",
     "text": [
      "Epoch 72: 100%|█████████████████████████████████████████████████████████| 66/66 [00:21<00:00,  3.07it/s, loss=0.000123]\n",
      "Epoch 72: 100%|█████████████████████████████████████████████████████████████| 17/17 [00:01<00:00,  9.20it/s, loss=15.6]\n"
     ]
    },
    {
     "name": "stdout",
     "output_type": "stream",
     "text": [
      "Epoch: 72 | Training loss 0.000198885364322147 | Validation loss 11.781259592841653\n"
     ]
    },
    {
     "name": "stderr",
     "output_type": "stream",
     "text": [
      "Epoch 73: 100%|██████████████████████████████████████████████████████████| 66/66 [00:21<00:00,  3.07it/s, loss=4.95e-6]\n",
      "Epoch 73: 100%|█████████████████████████████████████████████████████████████| 17/17 [00:01<00:00,  9.23it/s, loss=5.33]\n"
     ]
    },
    {
     "name": "stdout",
     "output_type": "stream",
     "text": [
      "Epoch: 73 | Training loss 0.00018560980978084748 | Validation loss 11.459655256832347\n"
     ]
    },
    {
     "name": "stderr",
     "output_type": "stream",
     "text": [
      "Epoch 74: 100%|██████████████████████████████████████████████████████████| 66/66 [00:21<00:00,  3.07it/s, loss=5.28e-5]\n",
      "Epoch 74: 100%|█████████████████████████████████████████████████████████████| 17/17 [00:01<00:00,  9.25it/s, loss=5.91]\n"
     ]
    },
    {
     "name": "stdout",
     "output_type": "stream",
     "text": [
      "Epoch: 74 | Training loss 0.0001750628169137406 | Validation loss 11.522156322703642\n"
     ]
    },
    {
     "name": "stderr",
     "output_type": "stream",
     "text": [
      "Epoch 75: 100%|██████████████████████████████████████████████████████████| 66/66 [00:21<00:00,  3.05it/s, loss=1.11e-5]\n",
      "Epoch 75: 100%|█████████████████████████████████████████████████████████████| 17/17 [00:01<00:00,  9.24it/s, loss=17.6]\n"
     ]
    },
    {
     "name": "stdout",
     "output_type": "stream",
     "text": [
      "Epoch: 75 | Training loss 0.00016415983490140096 | Validation loss 11.98322997373693\n"
     ]
    },
    {
     "name": "stderr",
     "output_type": "stream",
     "text": [
      "Epoch 76: 100%|█████████████████████████████████████████████████████████| 66/66 [00:21<00:00,  3.07it/s, loss=0.000152]\n",
      "Epoch 76: 100%|█████████████████████████████████████████████████████████████| 17/17 [00:01<00:00,  9.25it/s, loss=15.5]\n"
     ]
    },
    {
     "name": "stdout",
     "output_type": "stream",
     "text": [
      "Epoch: 76 | Training loss 0.0001556598980035536 | Validation loss 11.94657149034388\n"
     ]
    },
    {
     "name": "stderr",
     "output_type": "stream",
     "text": [
      "Epoch 77: 100%|██████████████████████████████████████████████████████████| 66/66 [00:21<00:00,  3.07it/s, loss=4.98e-5]\n",
      "Epoch 77: 100%|█████████████████████████████████████████████████████████████| 17/17 [00:01<00:00,  9.21it/s, loss=16.2]\n"
     ]
    },
    {
     "name": "stdout",
     "output_type": "stream",
     "text": [
      "Epoch: 77 | Training loss 0.00014588957277407064 | Validation loss 12.01241824206184\n"
     ]
    },
    {
     "name": "stderr",
     "output_type": "stream",
     "text": [
      "Epoch 78: 100%|███████████████████████████████████████████████████████████| 66/66 [00:21<00:00,  3.07it/s, loss=8.2e-5]\n",
      "Epoch 78: 100%|█████████████████████████████████████████████████████████████| 17/17 [00:01<00:00,  9.23it/s, loss=9.53]\n"
     ]
    },
    {
     "name": "stdout",
     "output_type": "stream",
     "text": [
      "Epoch: 78 | Training loss 0.0001377265081938469 | Validation loss 11.816785952624153\n"
     ]
    },
    {
     "name": "stderr",
     "output_type": "stream",
     "text": [
      "Epoch 79: 100%|██████████████████████████████████████████████████████████| 66/66 [00:21<00:00,  3.07it/s, loss=3.94e-5]\n",
      "Epoch 79: 100%|█████████████████████████████████████████████████████████████| 17/17 [00:01<00:00,  9.23it/s, loss=9.59]\n"
     ]
    },
    {
     "name": "stdout",
     "output_type": "stream",
     "text": [
      "Epoch: 79 | Training loss 0.00013050131168380506 | Validation loss 11.856563680312213\n"
     ]
    },
    {
     "name": "stderr",
     "output_type": "stream",
     "text": [
      "Epoch 80: 100%|██████████████████████████████████████████████████████████| 66/66 [00:21<00:00,  3.07it/s, loss=5.89e-5]\n",
      "Epoch 80: 100%|█████████████████████████████████████████████████████████████| 17/17 [00:01<00:00,  9.25it/s, loss=5.69]\n"
     ]
    },
    {
     "name": "stdout",
     "output_type": "stream",
     "text": [
      "Epoch: 80 | Training loss 0.0001235652546463164 | Validation loss 11.753825973061954\n"
     ]
    },
    {
     "name": "stderr",
     "output_type": "stream",
     "text": [
      "Epoch 81: 100%|███████████████████████████████████████████████████████████| 66/66 [00:21<00:00,  3.07it/s, loss=2.5e-5]\n",
      "Epoch 81: 100%|█████████████████████████████████████████████████████████████| 17/17 [00:01<00:00,  9.24it/s, loss=14.5]\n"
     ]
    },
    {
     "name": "stdout",
     "output_type": "stream",
     "text": [
      "Epoch: 81 | Training loss 0.00011678414841409187 | Validation loss 12.098074856926413\n"
     ]
    },
    {
     "name": "stderr",
     "output_type": "stream",
     "text": [
      "Epoch 82: 100%|██████████████████████████████████████████████████████████| 66/66 [00:21<00:00,  3.07it/s, loss=2.41e-5]\n",
      "Epoch 82: 100%|█████████████████████████████████████████████████████████████| 17/17 [00:01<00:00,  9.23it/s, loss=10.5]\n"
     ]
    },
    {
     "name": "stdout",
     "output_type": "stream",
     "text": [
      "Epoch: 82 | Training loss 0.0001105529470419931 | Validation loss 11.992707504945642\n"
     ]
    },
    {
     "name": "stderr",
     "output_type": "stream",
     "text": [
      "Epoch 83: 100%|███████████████████████████████████████████████████████████| 66/66 [00:21<00:00,  3.07it/s, loss=9.6e-6]\n",
      "Epoch 83: 100%|█████████████████████████████████████████████████████████████| 17/17 [00:01<00:00,  9.23it/s, loss=13.7]\n"
     ]
    },
    {
     "name": "stdout",
     "output_type": "stream",
     "text": [
      "Epoch: 83 | Training loss 0.00010493803735946791 | Validation loss 12.145083539626178\n"
     ]
    },
    {
     "name": "stderr",
     "output_type": "stream",
     "text": [
      "Epoch 84: 100%|█████████████████████████████████████████████████████████| 66/66 [00:21<00:00,  3.07it/s, loss=0.000205]\n",
      "Epoch 84: 100%|█████████████████████████████████████████████████████████████| 17/17 [00:01<00:00,  9.25it/s, loss=17.6]\n"
     ]
    },
    {
     "name": "stdout",
     "output_type": "stream",
     "text": [
      "Epoch: 84 | Training loss 0.00010203327647931556 | Validation loss 12.318641886991614\n"
     ]
    },
    {
     "name": "stderr",
     "output_type": "stream",
     "text": [
      "Epoch 85: 100%|█████████████████████████████████████████████████████████| 66/66 [00:21<00:00,  3.07it/s, loss=0.000202]\n",
      "Epoch 85: 100%|█████████████████████████████████████████████████████████████| 17/17 [00:01<00:00,  9.22it/s, loss=16.5]\n"
     ]
    },
    {
     "name": "stdout",
     "output_type": "stream",
     "text": [
      "Epoch: 85 | Training loss 9.723207938694748e-05 | Validation loss 12.313798371483298\n"
     ]
    },
    {
     "name": "stderr",
     "output_type": "stream",
     "text": [
      "Epoch 86: 100%|██████████████████████████████████████████████████████████| 66/66 [00:21<00:00,  3.07it/s, loss=7.99e-6]\n",
      "Epoch 86: 100%|█████████████████████████████████████████████████████████████| 17/17 [00:01<00:00,  9.23it/s, loss=13.5]\n"
     ]
    },
    {
     "name": "stdout",
     "output_type": "stream",
     "text": [
      "Epoch: 86 | Training loss 8.972135426368119e-05 | Validation loss 12.236320159014534\n"
     ]
    },
    {
     "name": "stderr",
     "output_type": "stream",
     "text": [
      "Epoch 87: 100%|██████████████████████████████████████████████████████████| 66/66 [00:21<00:00,  3.07it/s, loss=8.88e-6]\n",
      "Epoch 87: 100%|█████████████████████████████████████████████████████████████| 17/17 [00:01<00:00,  9.24it/s, loss=6.51]\n"
     ]
    },
    {
     "name": "stdout",
     "output_type": "stream",
     "text": [
      "Epoch: 87 | Training loss 8.578828751662073e-05 | Validation loss 12.024534029119154\n"
     ]
    },
    {
     "name": "stderr",
     "output_type": "stream",
     "text": [
      "Epoch 88: 100%|█████████████████████████████████████████████████████████| 66/66 [00:21<00:00,  3.06it/s, loss=0.000141]\n",
      "Epoch 88: 100%|██████████████████████████████████████████████████████████████| 17/17 [00:01<00:00,  9.24it/s, loss=9.8]\n"
     ]
    },
    {
     "name": "stdout",
     "output_type": "stream",
     "text": [
      "Epoch: 88 | Training loss 8.306642779864364e-05 | Validation loss 12.173674695632037\n"
     ]
    },
    {
     "name": "stderr",
     "output_type": "stream",
     "text": [
      "Epoch 89: 100%|██████████████████████████████████████████████████████████| 66/66 [00:21<00:00,  3.06it/s, loss=6.56e-6]\n",
      "Epoch 89: 100%|█████████████████████████████████████████████████████████████| 17/17 [00:01<00:00,  9.21it/s, loss=21.1]\n"
     ]
    },
    {
     "name": "stdout",
     "output_type": "stream",
     "text": [
      "Epoch: 89 | Training loss 7.756228303674796e-05 | Validation loss 12.598743410671458\n"
     ]
    },
    {
     "name": "stderr",
     "output_type": "stream",
     "text": [
      "Epoch 90: 100%|██████████████████████████████████████████████████████████| 66/66 [00:21<00:00,  3.07it/s, loss=5.96e-6]\n",
      "Epoch 90: 100%|█████████████████████████████████████████████████████████████| 17/17 [00:01<00:00,  9.23it/s, loss=11.5]\n"
     ]
    },
    {
     "name": "stdout",
     "output_type": "stream",
     "text": [
      "Epoch: 90 | Training loss 7.38716563029646e-05 | Validation loss 12.290531326742734\n"
     ]
    },
    {
     "name": "stderr",
     "output_type": "stream",
     "text": [
      "Epoch 91: 100%|███████████████████████████████████████████████████████████| 66/66 [00:21<00:00,  3.07it/s, loss=7.9e-5]\n",
      "Epoch 91: 100%|██████████████████████████████████████████████████████████████| 17/17 [00:01<00:00,  9.22it/s, loss=6.9]\n"
     ]
    },
    {
     "name": "stdout",
     "output_type": "stream",
     "text": [
      "Epoch: 91 | Training loss 7.138640896962237e-05 | Validation loss 12.16221540114459\n"
     ]
    },
    {
     "name": "stderr",
     "output_type": "stream",
     "text": [
      "Epoch 92: 100%|██████████████████████████████████████████████████████████| 66/66 [00:21<00:00,  3.07it/s, loss=1.73e-6]\n",
      "Epoch 92: 100%|█████████████████████████████████████████████████████████████| 17/17 [00:01<00:00,  9.20it/s, loss=13.4]\n"
     ]
    },
    {
     "name": "stdout",
     "output_type": "stream",
     "text": [
      "Epoch: 92 | Training loss 6.730567371381436e-05 | Validation loss 12.417864743401022\n"
     ]
    },
    {
     "name": "stderr",
     "output_type": "stream",
     "text": [
      "Epoch 93: 100%|██████████████████████████████████████████████████████████| 66/66 [00:21<00:00,  3.07it/s, loss=1.57e-5]\n",
      "Epoch 93: 100%|█████████████████████████████████████████████████████████████| 17/17 [00:01<00:00,  9.22it/s, loss=11.2]\n"
     ]
    },
    {
     "name": "stdout",
     "output_type": "stream",
     "text": [
      "Epoch: 93 | Training loss 6.437501648785353e-05 | Validation loss 12.36678061765783\n"
     ]
    },
    {
     "name": "stderr",
     "output_type": "stream",
     "text": [
      "Epoch 94: 100%|██████████████████████████████████████████████████████████| 66/66 [00:21<00:00,  3.07it/s, loss=5.15e-5]\n",
      "Epoch 94: 100%|█████████████████████████████████████████████████████████████| 17/17 [00:01<00:00,  9.22it/s, loss=9.81]\n"
     ]
    },
    {
     "name": "stdout",
     "output_type": "stream",
     "text": [
      "Epoch: 94 | Training loss 6.19420613860932e-05 | Validation loss 12.349158791934743\n"
     ]
    },
    {
     "name": "stderr",
     "output_type": "stream",
     "text": [
      "Epoch 95: 100%|██████████████████████████████████████████████████████████| 66/66 [00:21<00:00,  3.06it/s, loss=0.00025]\n",
      "Epoch 95: 100%|█████████████████████████████████████████████████████████████| 17/17 [00:01<00:00,  9.22it/s, loss=13.9]\n"
     ]
    },
    {
     "name": "stdout",
     "output_type": "stream",
     "text": [
      "Epoch: 95 | Training loss 6.149244249668713e-05 | Validation loss 12.521529450136072\n"
     ]
    },
    {
     "name": "stderr",
     "output_type": "stream",
     "text": [
      "Epoch 96: 100%|██████████████████████████████████████████████████████████| 66/66 [00:21<00:00,  3.06it/s, loss=1.14e-5]\n",
      "Epoch 96: 100%|█████████████████████████████████████████████████████████████| 17/17 [00:01<00:00,  9.25it/s, loss=18.9]\n"
     ]
    },
    {
     "name": "stdout",
     "output_type": "stream",
     "text": [
      "Epoch: 96 | Training loss 5.6119518211000304e-05 | Validation loss 12.735722093021169\n"
     ]
    },
    {
     "name": "stderr",
     "output_type": "stream",
     "text": [
      "Epoch 97: 100%|██████████████████████████████████████████████████████████| 66/66 [00:21<00:00,  3.07it/s, loss=1.67e-5]\n",
      "Epoch 97: 100%|█████████████████████████████████████████████████████████████| 17/17 [00:01<00:00,  9.21it/s, loss=12.9]\n"
     ]
    },
    {
     "name": "stdout",
     "output_type": "stream",
     "text": [
      "Epoch: 97 | Training loss 5.3637074181482824e-05 | Validation loss 12.544968548943014\n"
     ]
    },
    {
     "name": "stderr",
     "output_type": "stream",
     "text": [
      "Epoch 98: 100%|██████████████████████████████████████████████████████████| 66/66 [00:21<00:00,  3.07it/s, loss=2.51e-5]\n",
      "Epoch 98: 100%|█████████████████████████████████████████████████████████████| 17/17 [00:01<00:00,  9.22it/s, loss=19.7]\n"
     ]
    },
    {
     "name": "stdout",
     "output_type": "stream",
     "text": [
      "Epoch: 98 | Training loss 5.149419042605917e-05 | Validation loss 12.811691676869112\n"
     ]
    },
    {
     "name": "stderr",
     "output_type": "stream",
     "text": [
      "Epoch 99: 100%|██████████████████████████████████████████████████████████| 66/66 [00:21<00:00,  3.07it/s, loss=3.32e-5]\n",
      "Epoch 99: 100%|█████████████████████████████████████████████████████████████| 17/17 [00:01<00:00,  9.25it/s, loss=25.2]\n"
     ]
    },
    {
     "name": "stdout",
     "output_type": "stream",
     "text": [
      "Epoch: 99 | Training loss 4.934633065975945e-05 | Validation loss 13.033658139845905\n"
     ]
    }
   ],
   "source": [
    "num_epochs, prev_loss = 100, torch.inf\n",
    "train_loss, val_loss = [], []\n",
    "\n",
    "\n",
    "for epoch in range(num_epochs):\n",
    "    loop = tqdm(train_loader)\n",
    "    loss_list, count = 0, 0\n",
    "    for batch in loop:\n",
    "        optim.zero_grad()\n",
    "        input_ids = batch['input_ids'].to(device)\n",
    "        attention_mask = batch['attention_mask'].to(device)\n",
    "        start_positions = batch['start_positions'].to(device)\n",
    "        end_positions = batch['end_positions'].to(device)\n",
    "        \n",
    "        outputs = model(input_ids, attention_mask=attention_mask)\n",
    "        \n",
    "        loss = criterion(outputs, start_positions, end_positions)\n",
    "        loss.backward()\n",
    "        optim.step()\n",
    "        \n",
    "        loss_list += loss.item()\n",
    "        count += 1\n",
    "        \n",
    "        loop.set_description(f\"Epoch {epoch}\")\n",
    "        loop.set_postfix(loss=loss.item())\n",
    "    \n",
    "    loss = loss_list/count\n",
    "    train_loss.append(loss)\n",
    "    model.eval()\n",
    "    @torch.no_grad()\n",
    "    def validation():\n",
    "        loop = tqdm(val_loader)\n",
    "        loss_list, count = 0, 0\n",
    "        for batch in loop:            \n",
    "            input_ids = batch['input_ids'].to(device)\n",
    "            attention_mask = batch['attention_mask'].to(device)\n",
    "            start_positions = batch['start_positions'].to(device)\n",
    "            end_positions = batch['end_positions'].to(device)\n",
    "\n",
    "            outputs = model(input_ids, attention_mask=attention_mask)\n",
    "            \n",
    "            loss = criterion(outputs, start_positions, end_positions)\n",
    "            loss_list += loss.item()\n",
    "            count += 1\n",
    "            \n",
    "            loop.set_description(f\"Epoch {epoch}\")\n",
    "            loop.set_postfix(loss=loss.item())\n",
    "\n",
    "        return loss_list / count\n",
    "    v_loss = validation()\n",
    "    val_loss.append(v_loss)    \n",
    "    prev_loss = save_model(\"RoBERTa\", epoch, prev_loss, v_loss, model, tokenizer, optim)\n",
    "    print(f\"Epoch: {epoch} | Training loss {loss} | Validation loss {v_loss}\")"
   ]
  },
  {
   "cell_type": "code",
   "execution_count": 17,
   "id": "b7d9e9a2",
   "metadata": {},
   "outputs": [],
   "source": [
    "df = pd.DataFrame({\n",
    "    \"epochs\": range(0, len(train_loss)),\n",
    "    \"train_loss\": train_loss,\n",
    "    \"val_loss\": val_loss\n",
    "})\n",
    "df.to_csv(\"losses_100.csv\", index=False)"
   ]
  },
  {
   "cell_type": "code",
   "execution_count": 18,
   "id": "c83cc5c4",
   "metadata": {},
   "outputs": [
    {
     "data": {
      "image/png": "[encoded data removed]",
      "text/plain": [
       "<Figure size 640x480 with 1 Axes>"
      ]
     },
     "metadata": {},
     "output_type": "display_data"
    }
   ],
   "source": [
    "import matplotlib.pyplot as plt\n",
    "plt.plot(df.train_loss)\n",
    "plt.plot(df.val_loss)\n",
    "plt.xlabel(f\"The loss plot\")\n",
    "plt.show()"
   ]
  },
  {
   "cell_type": "code",
   "execution_count": 22,
   "id": "e6597fe2",
   "metadata": {},
   "outputs": [],
   "source": [
    "# train.to_csv(\"train.csv\", index=False)\n",
    "# val.to_csv(\"val.csv\", index=False)"
   ]
  },
  {
   "cell_type": "markdown",
   "id": "f507a558",
   "metadata": {},
   "source": [
    "# Evaluation"
   ]
  },
  {
   "cell_type": "code",
   "execution_count": 32,
   "id": "62e41545",
   "metadata": {},
   "outputs": [
    {
     "data": {
      "text/plain": [
       "RoBERTa(\n",
       "  (RoBERTa): RobertaModel(\n",
       "    (embeddings): RobertaEmbeddings(\n",
       "      (word_embeddings): Embedding(52000, 768, padding_idx=1)\n",
       "      (position_embeddings): Embedding(514, 768, padding_idx=1)\n",
       "      (token_type_embeddings): Embedding(1, 768)\n",
       "      (LayerNorm): LayerNorm((768,), eps=1e-12, elementwise_affine=True)\n",
       "      (dropout): Dropout(p=0.1, inplace=False)\n",
       "    )\n",
       "    (encoder): RobertaEncoder(\n",
       "      (layer): ModuleList(\n",
       "        (0-5): 6 x RobertaLayer(\n",
       "          (attention): RobertaAttention(\n",
       "            (self): RobertaSelfAttention(\n",
       "              (query): Linear(in_features=768, out_features=768, bias=True)\n",
       "              (key): Linear(in_features=768, out_features=768, bias=True)\n",
       "              (value): Linear(in_features=768, out_features=768, bias=True)\n",
       "              (dropout): Dropout(p=0.1, inplace=False)\n",
       "            )\n",
       "            (output): RobertaSelfOutput(\n",
       "              (dense): Linear(in_features=768, out_features=768, bias=True)\n",
       "              (LayerNorm): LayerNorm((768,), eps=1e-12, elementwise_affine=True)\n",
       "              (dropout): Dropout(p=0.1, inplace=False)\n",
       "            )\n",
       "          )\n",
       "          (intermediate): RobertaIntermediate(\n",
       "            (dense): Linear(in_features=768, out_features=3072, bias=True)\n",
       "            (intermediate_act_fn): GELUActivation()\n",
       "          )\n",
       "          (output): RobertaOutput(\n",
       "            (dense): Linear(in_features=3072, out_features=768, bias=True)\n",
       "            (LayerNorm): LayerNorm((768,), eps=1e-12, elementwise_affine=True)\n",
       "            (dropout): Dropout(p=0.1, inplace=False)\n",
       "          )\n",
       "        )\n",
       "      )\n",
       "    )\n",
       "  )\n",
       "  (qa_outputs): Linear(in_features=768, out_features=2, bias=True)\n",
       ")"
      ]
     },
     "execution_count": 32,
     "metadata": {},
     "output_type": "execute_result"
    }
   ],
   "source": [
    "model.load_state_dict(torch.load(\"models/best_RoBERTa.pt\")['model'])\n",
    "model.cuda();"
   ]
  },
  {
   "cell_type": "code",
   "execution_count": 24,
   "id": "de61bb52",
   "metadata": {},
   "outputs": [],
   "source": [
    "train = pd.read_csv(\"train.csv\")\n",
    "val = pd.read_csv(\"val.csv\")"
   ]
  },
  {
   "cell_type": "code",
   "execution_count": 25,
   "id": "9dea08eb",
   "metadata": {},
   "outputs": [],
   "source": [
    "train_encodings = tokenizer(list(train.context), list(train.question), max_length=512, truncation=True, padding='max_length', return_tensors='pt')\n",
    "\n",
    "val_encodings = tokenizer(list(val.context), list(val.question), max_length=512, truncation=True, padding='max_length', return_tensors='pt')"
   ]
  },
  {
   "cell_type": "code",
   "execution_count": 28,
   "id": "b36d3041",
   "metadata": {},
   "outputs": [],
   "source": [
    "add_token_positions(train_encodings, train)\n",
    "add_token_positions(val_encodings, val)"
   ]
  },
  {
   "cell_type": "code",
   "execution_count": 29,
   "id": "23df9086",
   "metadata": {},
   "outputs": [],
   "source": [
    "train_dataset = SquadDataset(train_encodings)\n",
    "val_dataset = SquadDataset(val_encodings)\n",
    "\n",
    "train_loader = DataLoader(train_dataset, batch_size=10, shuffle=True)\n",
    "val_loader = DataLoader(val_dataset, batch_size=10, shuffle=True)"
   ]
  },
  {
   "cell_type": "code",
   "execution_count": 45,
   "id": "bec83c28",
   "metadata": {},
   "outputs": [
    {
     "name": "stderr",
     "output_type": "stream",
     "text": [
      "  0%|                                                                                           | 0/17 [00:00<?, ?it/s]C:\\Users\\yerda\\AppData\\Local\\Temp\\ipykernel_15700\\2881824031.py:9: UserWarning: To copy construct from a tensor, it is recommended to use sourceTensor.clone().detach() or sourceTensor.clone().detach().requires_grad_(True), rather than torch.tensor(sourceTensor).\n",
      "  return {key: torch.tensor(val[x]) for key, val in self.encodings.items()}\n",
      "100%|██████████████████████████████████████████████████████████████████████████████████| 17/17 [00:02<00:00,  8.38it/s]\n"
     ]
    }
   ],
   "source": [
    "start_positions_, end_positions_ = [], []\n",
    "target_start_positions_, target_end_positions_ = [], []\n",
    "\n",
    "model.eval()\n",
    "with torch.no_grad():\n",
    "    loop = tqdm(val_loader)\n",
    "    loss_list, count = 0, 0\n",
    "    for batch in loop:            \n",
    "        input_ids = batch['input_ids'].to(device)\n",
    "        attention_mask = batch['attention_mask'].to(device)\n",
    "        start_positions = batch['start_positions'].to(device)\n",
    "        end_positions = batch['end_positions'].to(device)\n",
    "\n",
    "        outputs = model(input_ids, attention_mask=attention_mask)\n",
    "        \n",
    "        for start in outputs['start_logits'].argmax(dim=1):\n",
    "            start_positions_.append(start.cpu().item())\n",
    "        for end in outputs['end_logits'].argmax(dim=1):\n",
    "            end_positions_.append(end.cpu().item())\n",
    "            \n",
    "        for start in start_positions:\n",
    "            target_start_positions_.append(start.cpu().item())\n",
    "        for end in end_positions:\n",
    "            target_end_positions_.append(end.cpu().item())\n",
    "        "
   ]
  },
  {
   "cell_type": "code",
   "execution_count": 48,
   "id": "7f3db419",
   "metadata": {},
   "outputs": [],
   "source": [
    "validation_results = pd.DataFrame({\n",
    "    \"predicted_start_positions\": start_positions_,\n",
    "    \"predicted_end_posiitons\": end_positions_,\n",
    "    \"target_start_positions\": target_start_positions_,\n",
    "    \"target_end_positions\": target_end_positions_,\n",
    "})\n",
    "# validation_results.to_csv(\"validation_results.csv\", index=False)"
   ]
  },
  {
   "cell_type": "code",
   "execution_count": 50,
   "id": "38d622af",
   "metadata": {},
   "outputs": [],
   "source": [
    "from sklearn.metrics import accuracy_score"
   ]
  },
  {
   "cell_type": "code",
   "execution_count": 51,
   "id": "3397a563",
   "metadata": {},
   "outputs": [
    {
     "data": {
      "text/plain": [
       "0.2865853658536585"
      ]
     },
     "execution_count": 51,
     "metadata": {},
     "output_type": "execute_result"
    }
   ],
   "source": [
    "accuracy_score(validation_results['predicted_start_positions'], validation_results['target_start_positions'])"
   ]
  },
  {
   "cell_type": "code",
   "execution_count": 53,
   "id": "5e568eb5",
   "metadata": {},
   "outputs": [
    {
     "data": {
      "text/plain": [
       "0.1951219512195122"
      ]
     },
     "execution_count": 53,
     "metadata": {},
     "output_type": "execute_result"
    }
   ],
   "source": [
    "accuracy_score(validation_results['predicted_end_posiitons'], validation_results['target_end_positions'])"
   ]
  },
  {
   "cell_type": "code",
   "execution_count": null,
   "id": "ba112b4d",
   "metadata": {},
   "outputs": [],
   "source": [
    "28.65% 19.51%"
   ]
  },
  {
   "cell_type": "code",
   "execution_count": null,
   "id": "44d0115c",
   "metadata": {},
   "outputs": [],
   "source": []
  },
  {
   "cell_type": "code",
   "execution_count": null,
   "id": "cd7a1fec",
   "metadata": {},
   "outputs": [],
   "source": []
  }
 ],
 "metadata": {
  "kernelspec": {
   "display_name": "Python 3 (ipykernel)",
   "language": "python",
   "name": "python3"
  },
  "language_info": {
   "codemirror_mode": {
    "name": "ipython",
    "version": 3
   },
   "file_extension": ".py",
   "mimetype": "text/x-python",
   "name": "python",
   "nbconvert_exporter": "python",
   "pygments_lexer": "ipython3",
   "version": "3.11.4"
  }
 },
 "nbformat": 4,
 "nbformat_minor": 5
}
